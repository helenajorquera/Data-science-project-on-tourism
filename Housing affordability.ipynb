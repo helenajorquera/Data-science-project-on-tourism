{
 "cells": [
  {
   "cell_type": "markdown",
   "id": "e39ff9dc-d11b-4c54-9171-6f7ab5d53cff",
   "metadata": {},
   "source": [
    "<h1 style=\"text-align: center; color: darkblue;\">\n",
    "    The effect of tourism on housing affordability in Spain\n",
    "</h1>"
   ]
  },
  {
   "cell_type": "markdown",
   "id": "53d7338c-4e29-4fe0-9cbe-f471a53c6de3",
   "metadata": {},
   "source": [
    "Thousands of people have recently protested against tourism in different regions of Spain. One of the main claims is that the large amount of tourism in the region makes it harder and more expensive to rent or buy a house. The claim is supported by saying that it's more profitable to rent out by the day to tourists than long-term to citizens. Moreover, they claim that many tourists with higher incomes than locals buy houses in the regions they visit, making house prices rise. A different opinion is that tourism stimulates the economy, with more jobs in the industry and increased salaries."
   ]
  },
  {
   "cell_type": "markdown",
   "id": "6c3fa73f-12c5-48dd-a4b1-ed4b186e4a7a",
   "metadata": {},
   "source": [
    "<div style=\"display: flex; flex-direction: row; gap: 10px;\">\n",
    "  <div>\n",
    "    <img src=\"https://static.euronews.com/articles/stories/08/39/05/38/1920x1080_cmsv2_786f35cd-adef-59c3-9471-915317aeace6-8390538.jpg\" alt=\"A protest against tourism, with a banner that says 'Tourists go home' \" width=\"520\"/>\n",
    "  </div>\n",
    "  <div>\n",
    "    <img src=\"https://img2.rtve.es/i/?w=1600&i=01716770794275.jpg\" alt=\"A protest against tourism in the Canary islands, with a banner that says 'Foreigners buy 1 in every 3 houses, where are we going to live?'\" width=\"520\"/>\n",
    "  </div>\n",
    "  >\n"
   ]
  },
  {
   "cell_type": "markdown",
   "id": "c2e9c9d1-4dc8-4702-8124-ecfd774ebff4",
   "metadata": {},
   "source": [
    "Motivated by this, in this project, we'll investigate if there is a correlation between tourism and housing (and renting) affordability. \n",
    "\n",
    "We measure housing affordability with the average number of years the average citizen would need to buy the avarage house, and we call this the housing affordability index (HAI). That is, the HAI of a region is calculated as follows:\n",
    "$$\\text{HAI of a region}=\\frac{\\text{Average price of a house in the region}}{\\text{Average yearly income in the region}}$$\n",
    "\n",
    "We measure renting affordability with the percentage of an average income that would have to be spent on renting a 40-sqm living and we call this the RAI. That is, the RAI of a region is calculated as follows:\n",
    "$$\\text{RAI of a region}=\\frac{\\text{Average monthly rent price for a 40-sqm living in the region}}{\\text{Average monthly income in the region}}\\times 100$$\n",
    "Notice this is not an actual representation of what percentage of the salary is actually spent on rent. However, the RAI is useful to compare prices w.r.t. salaries in different regions.\n",
    "\n",
    "We measure the amount of tourism with the number of tourists that visit a region over the number of residents in that region.\n",
    "\n",
    "The questions we aim to answer are:\n",
    "* Is there a correlation between the amount of tourism and the HAI?\n",
    "* Is there a correlation between the amount of tourism and the RAI?\n",
    "\n",
    "To investigate these questions, we compare different regions with different amounts of tourism and see how they affect the HAI and RAI. Another approach could be to see how different amounts of tourism in a region across time affect the HAI and RAI, but we don't take this approach here. "
   ]
  },
  {
   "cell_type": "markdown",
   "id": "2a50633e-aec8-47f6-b8e2-1a1c06782b93",
   "metadata": {},
   "source": [
    "# 1. Data Collection"
   ]
  },
  {
   "cell_type": "markdown",
   "id": "c1373d6d-04cf-4314-8973-7bd5a5b2e968",
   "metadata": {},
   "source": [
    "We will start by collect the following data:\n",
    "* Number of tourists and number of residents per region\n",
    "* HAI per region\n",
    "* Average price to rent per square meter and average monthly salary per region\n",
    "* Geojson with the map ofdata"
   ]
  },
  {
   "cell_type": "code",
   "execution_count": 78,
   "id": "9b634ccc-0bd4-47f9-940d-70744a2d277e",
   "metadata": {},
   "outputs": [],
   "source": [
    "%%capture\n",
    "!pip install requests beautifulsoup4 pandas geopandas folium matplotlib plotly scikit-learn"
   ]
  },
  {
   "cell_type": "code",
   "execution_count": 79,
   "id": "39c42bb2-5782-4c8b-a664-f55605270b7e",
   "metadata": {},
   "outputs": [],
   "source": [
    "import requests\n",
    "from bs4 import BeautifulSoup\n",
    "import pandas as pd\n",
    "import geopandas as gpd\n",
    "import folium\n",
    "import matplotlib.pyplot as plt\n",
    "import plotly.express as px\n",
    "import plotly.graph_objects as go\n",
    "from sklearn.linear_model import LinearRegression\n",
    "from sklearn.preprocessing import PolynomialFeatures\n",
    "from sklearn.metrics import r2_score, mean_squared_error\n",
    "from sklearn.model_selection import train_test_split\n",
    "import numpy as np"
   ]
  },
  {
   "cell_type": "markdown",
   "id": "2d33c9ed-9339-40d7-86e5-c8858a37dbff",
   "metadata": {},
   "source": [
    "## Number of tourists and residents data"
   ]
  },
  {
   "cell_type": "markdown",
   "id": "e9601074-1a3d-4bf1-af5a-fdb5be2e0f88",
   "metadata": {},
   "source": [
    "We start by reading the csv files containing the number of tourists and residents per Spanish region. These files have delimiter \";\" and can be found here:\n",
    "\n",
    "* https://www.ine.es/jaxi/Tabla.htm?path=/t20/p274/serie/prov/p05/l0/&file=03001.px&L=0 (residents)\n",
    "* https://www.ine.es/jaxiT3/Tabla.htm?t=23988&L=0 (tourists)"
   ]
  },
  {
   "cell_type": "code",
   "execution_count": 80,
   "id": "7361cb02-dce8-4572-8f67-4d89ebbf129e",
   "metadata": {},
   "outputs": [],
   "source": [
    "df2 = pd.read_csv('23988.csv', delimiter=';', encoding='latin1') \n",
    "df1 = pd.read_csv('03001.csv', delimiter=';', encoding='latin1')  "
   ]
  },
  {
   "cell_type": "markdown",
   "id": "2623c41f-0363-4933-88da-33cf9928063f",
   "metadata": {},
   "source": [
    "We check that this worked."
   ]
  },
  {
   "cell_type": "code",
   "execution_count": 81,
   "id": "68afef85-f529-49b7-b12b-a3f8616831a0",
   "metadata": {},
   "outputs": [
    {
     "data": {
      "text/html": [
       "<div>\n",
       "<style scoped>\n",
       "    .dataframe tbody tr th:only-of-type {\n",
       "        vertical-align: middle;\n",
       "    }\n",
       "\n",
       "    .dataframe tbody tr th {\n",
       "        vertical-align: top;\n",
       "    }\n",
       "\n",
       "    .dataframe thead th {\n",
       "        text-align: right;\n",
       "    }\n",
       "</style>\n",
       "<table border=\"1\" class=\"dataframe\">\n",
       "  <thead>\n",
       "    <tr style=\"text-align: right;\">\n",
       "      <th></th>\n",
       "      <th>Total Nacional</th>\n",
       "      <th>Comunidades y Ciudades Autónomas</th>\n",
       "      <th>Estado civil</th>\n",
       "      <th>Sexo</th>\n",
       "      <th>Grupo de edad</th>\n",
       "      <th>periodo</th>\n",
       "      <th>Total</th>\n",
       "    </tr>\n",
       "  </thead>\n",
       "  <tbody>\n",
       "    <tr>\n",
       "      <th>0</th>\n",
       "      <td>Total Nacional</td>\n",
       "      <td>NaN</td>\n",
       "      <td>Total (estado civil)</td>\n",
       "      <td>Ambos sexos</td>\n",
       "      <td>Total (grupo de edad)</td>\n",
       "      <td>2018</td>\n",
       "      <td>46.248,3</td>\n",
       "    </tr>\n",
       "    <tr>\n",
       "      <th>1</th>\n",
       "      <td>Total Nacional</td>\n",
       "      <td>Andalucía</td>\n",
       "      <td>Total (estado civil)</td>\n",
       "      <td>Ambos sexos</td>\n",
       "      <td>Total (grupo de edad)</td>\n",
       "      <td>2018</td>\n",
       "      <td>8.345,0</td>\n",
       "    </tr>\n",
       "    <tr>\n",
       "      <th>2</th>\n",
       "      <td>Total Nacional</td>\n",
       "      <td>Aragón</td>\n",
       "      <td>Total (estado civil)</td>\n",
       "      <td>Ambos sexos</td>\n",
       "      <td>Total (grupo de edad)</td>\n",
       "      <td>2018</td>\n",
       "      <td>1.292,0</td>\n",
       "    </tr>\n",
       "    <tr>\n",
       "      <th>3</th>\n",
       "      <td>Total Nacional</td>\n",
       "      <td>Asturias, Principado de</td>\n",
       "      <td>Total (estado civil)</td>\n",
       "      <td>Ambos sexos</td>\n",
       "      <td>Total (grupo de edad)</td>\n",
       "      <td>2018</td>\n",
       "      <td>1.013,3</td>\n",
       "    </tr>\n",
       "    <tr>\n",
       "      <th>4</th>\n",
       "      <td>Total Nacional</td>\n",
       "      <td>Balears, Illes</td>\n",
       "      <td>Total (estado civil)</td>\n",
       "      <td>Ambos sexos</td>\n",
       "      <td>Total (grupo de edad)</td>\n",
       "      <td>2018</td>\n",
       "      <td>1.169,1</td>\n",
       "    </tr>\n",
       "  </tbody>\n",
       "</table>\n",
       "</div>"
      ],
      "text/plain": [
       "   Total Nacional Comunidades y Ciudades Autónomas          Estado civil  \\\n",
       "0  Total Nacional                              NaN  Total (estado civil)   \n",
       "1  Total Nacional                        Andalucía  Total (estado civil)   \n",
       "2  Total Nacional                           Aragón  Total (estado civil)   \n",
       "3  Total Nacional          Asturias, Principado de  Total (estado civil)   \n",
       "4  Total Nacional                   Balears, Illes  Total (estado civil)   \n",
       "\n",
       "          Sexo          Grupo de edad  periodo     Total  \n",
       "0  Ambos sexos  Total (grupo de edad)     2018  46.248,3  \n",
       "1  Ambos sexos  Total (grupo de edad)     2018   8.345,0  \n",
       "2  Ambos sexos  Total (grupo de edad)     2018   1.292,0  \n",
       "3  Ambos sexos  Total (grupo de edad)     2018   1.013,3  \n",
       "4  Ambos sexos  Total (grupo de edad)     2018   1.169,1  "
      ]
     },
     "execution_count": 81,
     "metadata": {},
     "output_type": "execute_result"
    }
   ],
   "source": [
    "df1.head()"
   ]
  },
  {
   "cell_type": "code",
   "execution_count": 82,
   "id": "c461861e-8846-468f-bbc8-56809a518e4c",
   "metadata": {},
   "outputs": [
    {
     "data": {
      "text/html": [
       "<div>\n",
       "<style scoped>\n",
       "    .dataframe tbody tr th:only-of-type {\n",
       "        vertical-align: middle;\n",
       "    }\n",
       "\n",
       "    .dataframe tbody tr th {\n",
       "        vertical-align: top;\n",
       "    }\n",
       "\n",
       "    .dataframe thead th {\n",
       "        text-align: right;\n",
       "    }\n",
       "</style>\n",
       "<table border=\"1\" class=\"dataframe\">\n",
       "  <thead>\n",
       "    <tr style=\"text-align: right;\">\n",
       "      <th></th>\n",
       "      <th>Comunidades autónomas</th>\n",
       "      <th>Tipo de dato</th>\n",
       "      <th>Periodo</th>\n",
       "      <th>Total</th>\n",
       "    </tr>\n",
       "  </thead>\n",
       "  <tbody>\n",
       "    <tr>\n",
       "      <th>0</th>\n",
       "      <td>Total</td>\n",
       "      <td>Dato base</td>\n",
       "      <td>2018</td>\n",
       "      <td>82.808.413</td>\n",
       "    </tr>\n",
       "    <tr>\n",
       "      <th>1</th>\n",
       "      <td>01 Andalucía</td>\n",
       "      <td>Dato base</td>\n",
       "      <td>2018</td>\n",
       "      <td>11.681.256</td>\n",
       "    </tr>\n",
       "    <tr>\n",
       "      <th>2</th>\n",
       "      <td>02 Aragón</td>\n",
       "      <td>Dato base</td>\n",
       "      <td>2018</td>\n",
       "      <td>545.530</td>\n",
       "    </tr>\n",
       "    <tr>\n",
       "      <th>3</th>\n",
       "      <td>03 Asturias, Principado de</td>\n",
       "      <td>Dato base</td>\n",
       "      <td>2018</td>\n",
       "      <td>299.357</td>\n",
       "    </tr>\n",
       "    <tr>\n",
       "      <th>4</th>\n",
       "      <td>04 Balears, Illes</td>\n",
       "      <td>Dato base</td>\n",
       "      <td>2018</td>\n",
       "      <td>13.851.598</td>\n",
       "    </tr>\n",
       "  </tbody>\n",
       "</table>\n",
       "</div>"
      ],
      "text/plain": [
       "        Comunidades autónomas Tipo de dato  Periodo       Total\n",
       "0                       Total    Dato base     2018  82.808.413\n",
       "1                01 Andalucía    Dato base     2018  11.681.256\n",
       "2                   02 Aragón    Dato base     2018     545.530\n",
       "3  03 Asturias, Principado de    Dato base     2018     299.357\n",
       "4           04 Balears, Illes    Dato base     2018  13.851.598"
      ]
     },
     "execution_count": 82,
     "metadata": {},
     "output_type": "execute_result"
    }
   ],
   "source": [
    "df2.head()"
   ]
  },
  {
   "cell_type": "markdown",
   "id": "020c74b5-9fb5-406d-bada-ee2bb59d5f59",
   "metadata": {},
   "source": [
    "Notice that the data in the tables is from 2018. This is the most recent year for which there was data which wasn't affected by the COVID-19 pandemic. "
   ]
  },
  {
   "cell_type": "markdown",
   "id": "534f2fba-983a-4660-b85c-7ee5c9edbd88",
   "metadata": {},
   "source": [
    "## HAI data"
   ]
  },
  {
   "cell_type": "markdown",
   "id": "18b77df6-813f-4158-ba48-88ae7a99d5ea",
   "metadata": {},
   "source": [
    "We now load the data of how long it takes to buy a house per region, which can be found here:\n",
    "\n",
    "https://es.statista.com/estadisticas/544760/indice-de-esfuerzo-para-comprar-una-vivienda-en-espana-por-cc-aa/"
   ]
  },
  {
   "cell_type": "code",
   "execution_count": 83,
   "id": "2b81b56e-33e8-44eb-8a36-47377c013404",
   "metadata": {},
   "outputs": [],
   "source": [
    "url = 'https://es.statista.com/estadisticas/544760/indice-de-esfuerzo-para-comprar-una-vivienda-en-espana-por-cc-aa/'"
   ]
  },
  {
   "cell_type": "markdown",
   "id": "267c000f-ac3e-4092-825d-032fc6aededd",
   "metadata": {},
   "source": [
    "We get the HTML content from the specified URL."
   ]
  },
  {
   "cell_type": "code",
   "execution_count": 84,
   "id": "e76ba8b5-9db9-4a5a-87d0-fb5d7064bb3b",
   "metadata": {},
   "outputs": [],
   "source": [
    "response = requests.get(url)"
   ]
  },
  {
   "cell_type": "markdown",
   "id": "8859eb1e-ded7-48e5-9c81-fa391131b337",
   "metadata": {},
   "source": [
    "We convert the content into a BeautifulSoup object"
   ]
  },
  {
   "cell_type": "code",
   "execution_count": 85,
   "id": "19557eb3-0009-4bb6-9736-20b7182793d8",
   "metadata": {},
   "outputs": [],
   "source": [
    "soup = BeautifulSoup(response.content, 'html.parser')"
   ]
  },
  {
   "cell_type": "markdown",
   "id": "b8d08e74-7bdf-4d1a-ad58-447deeeed93d",
   "metadata": {},
   "source": [
    "We find the first table in the HTML."
   ]
  },
  {
   "cell_type": "code",
   "execution_count": 86,
   "id": "2535d90e-65f1-4209-ac02-0c2b227af112",
   "metadata": {},
   "outputs": [],
   "source": [
    "table = soup.find('table')"
   ]
  },
  {
   "cell_type": "markdown",
   "id": "2d8c0a5f-81e3-4bb5-9462-cbe924de457e",
   "metadata": {},
   "source": [
    "We store the table headers in a list 'headers'."
   ]
  },
  {
   "cell_type": "code",
   "execution_count": 87,
   "id": "3954eff6-7c1f-448b-9377-583ea5e92c40",
   "metadata": {},
   "outputs": [],
   "source": [
    "headers = []\n",
    "for th in table.find_all('th'):\n",
    "    headers.append(th.text.strip())"
   ]
  },
  {
   "cell_type": "markdown",
   "id": "5c8bfe3d-0411-4be5-9720-aa923c9fb7b6",
   "metadata": {},
   "source": [
    "We store the text from all text from non-empty cells in a list 'rows'."
   ]
  },
  {
   "cell_type": "code",
   "execution_count": 88,
   "id": "02db8599-6c16-4642-9c35-4bdb9be7ed37",
   "metadata": {},
   "outputs": [],
   "source": [
    "rows = []\n",
    "for tr in table.find_all('tr'):\n",
    "    cells = tr.find_all('td')\n",
    "    row = [cell.text.strip() for cell in cells]\n",
    "    if row:  #if row is empty it won't be appended\n",
    "        rows.append(row)"
   ]
  },
  {
   "cell_type": "markdown",
   "id": "2dcf9245-401f-4055-8a67-c4acc671b2b1",
   "metadata": {},
   "source": [
    "We convert the list of rows with headers into a dataframe."
   ]
  },
  {
   "cell_type": "code",
   "execution_count": 89,
   "id": "7fc35d71-ebd2-4715-95e2-432de9513385",
   "metadata": {},
   "outputs": [
    {
     "data": {
      "text/html": [
       "<div>\n",
       "<style scoped>\n",
       "    .dataframe tbody tr th:only-of-type {\n",
       "        vertical-align: middle;\n",
       "    }\n",
       "\n",
       "    .dataframe tbody tr th {\n",
       "        vertical-align: top;\n",
       "    }\n",
       "\n",
       "    .dataframe thead th {\n",
       "        text-align: right;\n",
       "    }\n",
       "</style>\n",
       "<table border=\"1\" class=\"dataframe\">\n",
       "  <thead>\n",
       "    <tr style=\"text-align: right;\">\n",
       "      <th></th>\n",
       "      <th>Característica</th>\n",
       "      <th>Índice de esfuerzo inmobiliario</th>\n",
       "    </tr>\n",
       "  </thead>\n",
       "  <tbody>\n",
       "    <tr>\n",
       "      <th>0</th>\n",
       "      <td>Islas Baleares</td>\n",
       "      <td>19,9</td>\n",
       "    </tr>\n",
       "    <tr>\n",
       "      <th>1</th>\n",
       "      <td>C. de Madrid</td>\n",
       "      <td>9,3</td>\n",
       "    </tr>\n",
       "    <tr>\n",
       "      <th>2</th>\n",
       "      <td>Cataluña</td>\n",
       "      <td>8,6</td>\n",
       "    </tr>\n",
       "    <tr>\n",
       "      <th>3</th>\n",
       "      <td>Media nacional</td>\n",
       "      <td>7,6</td>\n",
       "    </tr>\n",
       "    <tr>\n",
       "      <th>4</th>\n",
       "      <td>Galicia</td>\n",
       "      <td>7,5</td>\n",
       "    </tr>\n",
       "  </tbody>\n",
       "</table>\n",
       "</div>"
      ],
      "text/plain": [
       "   Característica Índice de esfuerzo inmobiliario\n",
       "0  Islas Baleares                            19,9\n",
       "1    C. de Madrid                             9,3\n",
       "2        Cataluña                             8,6\n",
       "3  Media nacional                             7,6\n",
       "4         Galicia                             7,5"
      ]
     },
     "execution_count": 89,
     "metadata": {},
     "output_type": "execute_result"
    }
   ],
   "source": [
    "df3 = pd.DataFrame(rows, columns=headers)\n",
    "df3.head()"
   ]
  },
  {
   "cell_type": "markdown",
   "id": "e0e9d2ae-f147-40a1-8c98-6a34e2e59094",
   "metadata": {},
   "source": [
    "## Average price to rent per square meter and average monthly salary per region\n"
   ]
  },
  {
   "cell_type": "markdown",
   "id": "daa841e4-90d1-4a79-b0c7-e2848f717edd",
   "metadata": {},
   "source": [
    "We now get the data of rent prices, which can be found here:\n",
    "\n",
    "https://www.idealista.com/sala-de-prensa/informes-precio-vivienda/alquiler/."
   ]
  },
  {
   "cell_type": "code",
   "execution_count": 90,
   "id": "128cf3c1-1cac-4bd2-9f69-c7ab0722f7d4",
   "metadata": {},
   "outputs": [
    {
     "data": {
      "text/html": [
       "<div>\n",
       "<style scoped>\n",
       "    .dataframe tbody tr th:only-of-type {\n",
       "        vertical-align: middle;\n",
       "    }\n",
       "\n",
       "    .dataframe tbody tr th {\n",
       "        vertical-align: top;\n",
       "    }\n",
       "\n",
       "    .dataframe thead th {\n",
       "        text-align: right;\n",
       "    }\n",
       "</style>\n",
       "<table border=\"1\" class=\"dataframe\">\n",
       "  <thead>\n",
       "    <tr style=\"text-align: right;\">\n",
       "      <th></th>\n",
       "      <th>Localización</th>\n",
       "      <th>Precio m2 jul 2024</th>\n",
       "      <th>Variación mensual</th>\n",
       "      <th>Variación trimestral</th>\n",
       "      <th>Variación anual</th>\n",
       "      <th>Máximo histórico</th>\n",
       "      <th>Variación máximo</th>\n",
       "    </tr>\n",
       "  </thead>\n",
       "  <tbody>\n",
       "    <tr>\n",
       "      <th>0</th>\n",
       "      <td>España</td>\n",
       "      <td>13,1 /m2</td>\n",
       "      <td>- 1,6 %</td>\n",
       "      <td>+ 1,3 %</td>\n",
       "      <td>+ 10,4 %</td>\n",
       "      <td>13,4 /m2 jun 2024</td>\n",
       "      <td>- 1,6 %</td>\n",
       "    </tr>\n",
       "    <tr>\n",
       "      <th>1</th>\n",
       "      <td>Andalucía</td>\n",
       "      <td>11,4 /m2</td>\n",
       "      <td>- 0,8 %</td>\n",
       "      <td>+ 0,9 %</td>\n",
       "      <td>+ 11,0 %</td>\n",
       "      <td>11,5 /m2 jun 2024</td>\n",
       "      <td>- 0,8 %</td>\n",
       "    </tr>\n",
       "    <tr>\n",
       "      <th>2</th>\n",
       "      <td>Aragón</td>\n",
       "      <td>9,3 /m2</td>\n",
       "      <td>+ 1,2 %</td>\n",
       "      <td>+ 4,7 %</td>\n",
       "      <td>+ 8,8 %</td>\n",
       "      <td>9,3 /m2 jul 2024</td>\n",
       "      <td>0,0 %</td>\n",
       "    </tr>\n",
       "    <tr>\n",
       "      <th>3</th>\n",
       "      <td>Asturias</td>\n",
       "      <td>9,0 /m2</td>\n",
       "      <td>+ 0,4 %</td>\n",
       "      <td>+ 4,1 %</td>\n",
       "      <td>+ 10,4 %</td>\n",
       "      <td>12,5 /m2 feb 2008</td>\n",
       "      <td>- 27,8 %</td>\n",
       "    </tr>\n",
       "    <tr>\n",
       "      <th>4</th>\n",
       "      <td>Baleares</td>\n",
       "      <td>18,9 /m2</td>\n",
       "      <td>- 5,1 %</td>\n",
       "      <td>+ 6,2 %</td>\n",
       "      <td>+ 14,6 %</td>\n",
       "      <td>19,9 /m2 jun 2024</td>\n",
       "      <td>- 5,1 %</td>\n",
       "    </tr>\n",
       "    <tr>\n",
       "      <th>5</th>\n",
       "      <td>Canarias</td>\n",
       "      <td>13,9 /m2</td>\n",
       "      <td>- 1,9 %</td>\n",
       "      <td>+ 2,2 %</td>\n",
       "      <td>+ 9,7 %</td>\n",
       "      <td>14,2 /m2 jun 2024</td>\n",
       "      <td>- 1,9 %</td>\n",
       "    </tr>\n",
       "    <tr>\n",
       "      <th>6</th>\n",
       "      <td>Cantabria</td>\n",
       "      <td>11,5 /m2</td>\n",
       "      <td>- 2,9 %</td>\n",
       "      <td>+ 6,8 %</td>\n",
       "      <td>+ 8,1 %</td>\n",
       "      <td>14,8 /m2 jul 2007</td>\n",
       "      <td>- 22,0 %</td>\n",
       "    </tr>\n",
       "    <tr>\n",
       "      <th>7</th>\n",
       "      <td>Castilla y León</td>\n",
       "      <td>8,2 /m2</td>\n",
       "      <td>0,0 %</td>\n",
       "      <td>+ 1,9 %</td>\n",
       "      <td>+ 8,1 %</td>\n",
       "      <td>8,2 /m2 jun 2024</td>\n",
       "      <td>0,0 %</td>\n",
       "    </tr>\n",
       "    <tr>\n",
       "      <th>8</th>\n",
       "      <td>Castilla-La Mancha</td>\n",
       "      <td>7,1 /m2</td>\n",
       "      <td>+ 0,5 %</td>\n",
       "      <td>+ 1,7 %</td>\n",
       "      <td>+ 8,3 %</td>\n",
       "      <td>7,1 /m2 jul 2024</td>\n",
       "      <td>0,0 %</td>\n",
       "    </tr>\n",
       "    <tr>\n",
       "      <th>9</th>\n",
       "      <td>Cataluña</td>\n",
       "      <td>16,7 /m2</td>\n",
       "      <td>- 3,6 %</td>\n",
       "      <td>- 0,6 %</td>\n",
       "      <td>+ 9,4 %</td>\n",
       "      <td>17,4 /m2 jun 2024</td>\n",
       "      <td>- 3,6 %</td>\n",
       "    </tr>\n",
       "    <tr>\n",
       "      <th>10</th>\n",
       "      <td>Comunitat Valenciana</td>\n",
       "      <td>11,2 /m2</td>\n",
       "      <td>+ 0,9 %</td>\n",
       "      <td>+ 5,3 %</td>\n",
       "      <td>+ 14,1 %</td>\n",
       "      <td>11,2 /m2 jul 2024</td>\n",
       "      <td>0,0 %</td>\n",
       "    </tr>\n",
       "    <tr>\n",
       "      <th>11</th>\n",
       "      <td>Euskadi</td>\n",
       "      <td>13,9 /m2</td>\n",
       "      <td>- 0,4 %</td>\n",
       "      <td>+ 2,7 %</td>\n",
       "      <td>+ 7,9 %</td>\n",
       "      <td>14,0 /m2 jun 2024</td>\n",
       "      <td>- 0,4 %</td>\n",
       "    </tr>\n",
       "    <tr>\n",
       "      <th>12</th>\n",
       "      <td>Extremadura</td>\n",
       "      <td>7,1 /m2</td>\n",
       "      <td>+ 6,1 %</td>\n",
       "      <td>+ 10,3 %</td>\n",
       "      <td>+ 16,6 %</td>\n",
       "      <td>7,1 /m2 jul 2024</td>\n",
       "      <td>0,0 %</td>\n",
       "    </tr>\n",
       "    <tr>\n",
       "      <th>13</th>\n",
       "      <td>Galicia</td>\n",
       "      <td>8,9 /m2</td>\n",
       "      <td>- 1,2 %</td>\n",
       "      <td>+ 2,1 %</td>\n",
       "      <td>+ 9,2 %</td>\n",
       "      <td>9,6 /m2 mayo 2007</td>\n",
       "      <td>- 7,7 %</td>\n",
       "    </tr>\n",
       "    <tr>\n",
       "      <th>14</th>\n",
       "      <td>La Rioja</td>\n",
       "      <td>8,0 /m2</td>\n",
       "      <td>- 0,7 %</td>\n",
       "      <td>+ 1,0 %</td>\n",
       "      <td>+ 5,5 %</td>\n",
       "      <td>8,0 /m2 jun 2024</td>\n",
       "      <td>- 0,7 %</td>\n",
       "    </tr>\n",
       "    <tr>\n",
       "      <th>15</th>\n",
       "      <td>Madrid Comunidad</td>\n",
       "      <td>18,1 /m2</td>\n",
       "      <td>+ 0,2 %</td>\n",
       "      <td>+ 4,1 %</td>\n",
       "      <td>+ 16,0 %</td>\n",
       "      <td>18,1 /m2 jul 2024</td>\n",
       "      <td>0,0 %</td>\n",
       "    </tr>\n",
       "    <tr>\n",
       "      <th>16</th>\n",
       "      <td>Melilla</td>\n",
       "      <td>10,4 /m2</td>\n",
       "      <td>+ 3,9 %</td>\n",
       "      <td>+ 4,9 %</td>\n",
       "      <td>+ 12,0 %</td>\n",
       "      <td>10,4 /m2 jul 2024</td>\n",
       "      <td>0,0 %</td>\n",
       "    </tr>\n",
       "    <tr>\n",
       "      <th>17</th>\n",
       "      <td>Murcia Región</td>\n",
       "      <td>8,6 /m2</td>\n",
       "      <td>+ 2,7 %</td>\n",
       "      <td>+ 9,3 %</td>\n",
       "      <td>+ 8,0 %</td>\n",
       "      <td>8,6 /m2 jul 2024</td>\n",
       "      <td>0,0 %</td>\n",
       "    </tr>\n",
       "    <tr>\n",
       "      <th>18</th>\n",
       "      <td>Navarra</td>\n",
       "      <td>10,0 /m2</td>\n",
       "      <td>- 0,2 %</td>\n",
       "      <td>- 1,2 %</td>\n",
       "      <td>+ 3,3 %</td>\n",
       "      <td>10,2 /m2 mayo 2024</td>\n",
       "      <td>0,0 %</td>\n",
       "    </tr>\n",
       "  </tbody>\n",
       "</table>\n",
       "</div>"
      ],
      "text/plain": [
       "            Localización Precio m2 jul 2024 Variación mensual  \\\n",
       "0                 España          13,1 /m2           - 1,6 %   \n",
       "1              Andalucía          11,4 /m2           - 0,8 %   \n",
       "2                 Aragón           9,3 /m2           + 1,2 %   \n",
       "3               Asturias           9,0 /m2           + 0,4 %   \n",
       "4               Baleares          18,9 /m2           - 5,1 %   \n",
       "5               Canarias          13,9 /m2           - 1,9 %   \n",
       "6              Cantabria          11,5 /m2           - 2,9 %   \n",
       "7        Castilla y León           8,2 /m2             0,0 %   \n",
       "8     Castilla-La Mancha           7,1 /m2           + 0,5 %   \n",
       "9               Cataluña          16,7 /m2           - 3,6 %   \n",
       "10  Comunitat Valenciana          11,2 /m2           + 0,9 %   \n",
       "11               Euskadi          13,9 /m2           - 0,4 %   \n",
       "12           Extremadura           7,1 /m2           + 6,1 %   \n",
       "13               Galicia           8,9 /m2           - 1,2 %   \n",
       "14              La Rioja           8,0 /m2           - 0,7 %   \n",
       "15      Madrid Comunidad          18,1 /m2           + 0,2 %   \n",
       "16               Melilla          10,4 /m2           + 3,9 %   \n",
       "17         Murcia Región           8,6 /m2           + 2,7 %   \n",
       "18               Navarra          10,0 /m2           - 0,2 %   \n",
       "\n",
       "   Variación trimestral Variación anual     Máximo histórico Variación máximo  \n",
       "0               + 1,3 %        + 10,4 %   13,4 /m2 jun 2024          - 1,6 %  \n",
       "1               + 0,9 %        + 11,0 %   11,5 /m2 jun 2024          - 0,8 %  \n",
       "2               + 4,7 %         + 8,8 %    9,3 /m2 jul 2024            0,0 %  \n",
       "3               + 4,1 %        + 10,4 %   12,5 /m2 feb 2008         - 27,8 %  \n",
       "4               + 6,2 %        + 14,6 %   19,9 /m2 jun 2024          - 5,1 %  \n",
       "5               + 2,2 %         + 9,7 %   14,2 /m2 jun 2024          - 1,9 %  \n",
       "6               + 6,8 %         + 8,1 %   14,8 /m2 jul 2007         - 22,0 %  \n",
       "7               + 1,9 %         + 8,1 %    8,2 /m2 jun 2024            0,0 %  \n",
       "8               + 1,7 %         + 8,3 %    7,1 /m2 jul 2024            0,0 %  \n",
       "9               - 0,6 %         + 9,4 %   17,4 /m2 jun 2024          - 3,6 %  \n",
       "10              + 5,3 %        + 14,1 %   11,2 /m2 jul 2024            0,0 %  \n",
       "11              + 2,7 %         + 7,9 %   14,0 /m2 jun 2024          - 0,4 %  \n",
       "12             + 10,3 %        + 16,6 %    7,1 /m2 jul 2024            0,0 %  \n",
       "13              + 2,1 %         + 9,2 %   9,6 /m2 mayo 2007          - 7,7 %  \n",
       "14              + 1,0 %         + 5,5 %    8,0 /m2 jun 2024          - 0,7 %  \n",
       "15              + 4,1 %        + 16,0 %   18,1 /m2 jul 2024            0,0 %  \n",
       "16              + 4,9 %        + 12,0 %   10,4 /m2 jul 2024            0,0 %  \n",
       "17              + 9,3 %         + 8,0 %    8,6 /m2 jul 2024            0,0 %  \n",
       "18              - 1,2 %         + 3,3 %  10,2 /m2 mayo 2024            0,0 %  "
      ]
     },
     "execution_count": 90,
     "metadata": {},
     "output_type": "execute_result"
    }
   ],
   "source": [
    "df5 = pd.read_csv('rent.csv', delimiter=';', encoding='latin1')\n",
    "df5"
   ]
  },
  {
   "cell_type": "markdown",
   "id": "12394126-d0fd-437f-95f8-93f783dd09e1",
   "metadata": {},
   "source": [
    "We also collect the data of avarage salaries, which can be found here:\n",
    "\n",
    "https://www.ine.es/jaxiT3/Tabla.htm?t=13930&L=0."
   ]
  },
  {
   "cell_type": "code",
   "execution_count": 91,
   "id": "f5b0740e-7f5b-41ec-a80c-d21970fd2ce7",
   "metadata": {},
   "outputs": [
    {
     "data": {
      "text/html": [
       "<div>\n",
       "<style scoped>\n",
       "    .dataframe tbody tr th:only-of-type {\n",
       "        vertical-align: middle;\n",
       "    }\n",
       "\n",
       "    .dataframe tbody tr th {\n",
       "        vertical-align: top;\n",
       "    }\n",
       "\n",
       "    .dataframe thead th {\n",
       "        text-align: right;\n",
       "    }\n",
       "</style>\n",
       "<table border=\"1\" class=\"dataframe\">\n",
       "  <thead>\n",
       "    <tr style=\"text-align: right;\">\n",
       "      <th></th>\n",
       "      <th>Tipo de jornada</th>\n",
       "      <th>Comunidades y Ciudades Autonómas</th>\n",
       "      <th>Decil</th>\n",
       "      <th>Periodo</th>\n",
       "      <th>Total</th>\n",
       "    </tr>\n",
       "  </thead>\n",
       "  <tbody>\n",
       "    <tr>\n",
       "      <th>0</th>\n",
       "      <td>Total</td>\n",
       "      <td>Total Nacional</td>\n",
       "      <td>Total decil</td>\n",
       "      <td>2022</td>\n",
       "      <td>2.128,37</td>\n",
       "    </tr>\n",
       "    <tr>\n",
       "      <th>1</th>\n",
       "      <td>Total</td>\n",
       "      <td>01 Andalucía</td>\n",
       "      <td>Total decil</td>\n",
       "      <td>2022</td>\n",
       "      <td>1.914,87</td>\n",
       "    </tr>\n",
       "    <tr>\n",
       "      <th>2</th>\n",
       "      <td>Total</td>\n",
       "      <td>02 Aragón</td>\n",
       "      <td>Total decil</td>\n",
       "      <td>2022</td>\n",
       "      <td>2.029,96</td>\n",
       "    </tr>\n",
       "    <tr>\n",
       "      <th>3</th>\n",
       "      <td>Total</td>\n",
       "      <td>03 Asturias, Principado de</td>\n",
       "      <td>Total decil</td>\n",
       "      <td>2022</td>\n",
       "      <td>2.115,30</td>\n",
       "    </tr>\n",
       "    <tr>\n",
       "      <th>4</th>\n",
       "      <td>Total</td>\n",
       "      <td>04 Balears, Illes</td>\n",
       "      <td>Total decil</td>\n",
       "      <td>2022</td>\n",
       "      <td>2.311,67</td>\n",
       "    </tr>\n",
       "  </tbody>\n",
       "</table>\n",
       "</div>"
      ],
      "text/plain": [
       "  Tipo de jornada Comunidades y Ciudades Autonómas        Decil  Periodo  \\\n",
       "0           Total                   Total Nacional  Total decil     2022   \n",
       "1           Total                     01 Andalucía  Total decil     2022   \n",
       "2           Total                        02 Aragón  Total decil     2022   \n",
       "3           Total       03 Asturias, Principado de  Total decil     2022   \n",
       "4           Total                04 Balears, Illes  Total decil     2022   \n",
       "\n",
       "      Total  \n",
       "0  2.128,37  \n",
       "1  1.914,87  \n",
       "2  2.029,96  \n",
       "3  2.115,30  \n",
       "4  2.311,67  "
      ]
     },
     "execution_count": 91,
     "metadata": {},
     "output_type": "execute_result"
    }
   ],
   "source": [
    "df6 = pd.read_csv('salary.csv', delimiter=';', encoding='latin1')\n",
    "df6.head()"
   ]
  },
  {
   "cell_type": "markdown",
   "id": "67b75711-75c0-4f17-a9b3-b11aa7c4f46d",
   "metadata": {},
   "source": [
    "## Map data"
   ]
  },
  {
   "cell_type": "markdown",
   "id": "f2fce980-4024-41dd-b88c-a6acb4ddd5e1",
   "metadata": {},
   "source": [
    "Finally, we load GeoJSON file so we can plot our data in maps with regions limits later. This file can be found here:\n",
    "\n",
    "https://hub.arcgis.com/datasets/e75892d1a49646d8a29705ac6680f981_0/about."
   ]
  },
  {
   "cell_type": "code",
   "execution_count": 92,
   "id": "c1ab955d-6bc4-4c12-b9c7-cea3d2bba636",
   "metadata": {},
   "outputs": [
    {
     "data": {
      "text/html": [
       "<div>\n",
       "<style scoped>\n",
       "    .dataframe tbody tr th:only-of-type {\n",
       "        vertical-align: middle;\n",
       "    }\n",
       "\n",
       "    .dataframe tbody tr th {\n",
       "        vertical-align: top;\n",
       "    }\n",
       "\n",
       "    .dataframe thead th {\n",
       "        text-align: right;\n",
       "    }\n",
       "</style>\n",
       "<table border=\"1\" class=\"dataframe\">\n",
       "  <thead>\n",
       "    <tr style=\"text-align: right;\">\n",
       "      <th></th>\n",
       "      <th>OBJECTID</th>\n",
       "      <th>INSPIREID</th>\n",
       "      <th>COUNTRY</th>\n",
       "      <th>NATLEV</th>\n",
       "      <th>NATLEVNAME</th>\n",
       "      <th>NATCODE</th>\n",
       "      <th>NAMEUNIT</th>\n",
       "      <th>CODNUT1</th>\n",
       "      <th>CODNUT2</th>\n",
       "      <th>CODNUT3</th>\n",
       "      <th>geometry</th>\n",
       "    </tr>\n",
       "  </thead>\n",
       "  <tbody>\n",
       "    <tr>\n",
       "      <th>0</th>\n",
       "      <td>1</td>\n",
       "      <td>ES.IGN.BDDAE.34010000000</td>\n",
       "      <td>ES</td>\n",
       "      <td>https://inspire.ec.europa.eu/codelist/Administ...</td>\n",
       "      <td>Comunidad autónoma</td>\n",
       "      <td>34010000000</td>\n",
       "      <td>Andalucía</td>\n",
       "      <td>ES6</td>\n",
       "      <td>ES61</td>\n",
       "      <td></td>\n",
       "      <td>MULTIPOLYGON (((-6.3176 36.5288, -6.31759 36.5...</td>\n",
       "    </tr>\n",
       "    <tr>\n",
       "      <th>1</th>\n",
       "      <td>2</td>\n",
       "      <td>ES.IGN.BDDAE.34020000000</td>\n",
       "      <td>ES</td>\n",
       "      <td>https://inspire.ec.europa.eu/codelist/Administ...</td>\n",
       "      <td>Comunidad autónoma</td>\n",
       "      <td>34020000000</td>\n",
       "      <td>Aragón</td>\n",
       "      <td>ES2</td>\n",
       "      <td>ES24</td>\n",
       "      <td></td>\n",
       "      <td>POLYGON ((-1.68752 40.57939, -1.68582 40.57991...</td>\n",
       "    </tr>\n",
       "    <tr>\n",
       "      <th>2</th>\n",
       "      <td>3</td>\n",
       "      <td>ES.IGN.BDDAE.34030000000</td>\n",
       "      <td>ES</td>\n",
       "      <td>https://inspire.ec.europa.eu/codelist/Administ...</td>\n",
       "      <td>Comunidad autónoma</td>\n",
       "      <td>34030000000</td>\n",
       "      <td>Principado de Asturias</td>\n",
       "      <td>ES1</td>\n",
       "      <td>ES12</td>\n",
       "      <td></td>\n",
       "      <td>MULTIPOLYGON (((-6.85727 43.17325, -6.85767 43...</td>\n",
       "    </tr>\n",
       "    <tr>\n",
       "      <th>3</th>\n",
       "      <td>4</td>\n",
       "      <td>ES.IGN.BDDAE.34040000000</td>\n",
       "      <td>ES</td>\n",
       "      <td>https://inspire.ec.europa.eu/codelist/Administ...</td>\n",
       "      <td>Comunidad autónoma</td>\n",
       "      <td>34040000000</td>\n",
       "      <td>Illes Balears</td>\n",
       "      <td>ES5</td>\n",
       "      <td>ES53</td>\n",
       "      <td></td>\n",
       "      <td>MULTIPOLYGON (((1.24355 38.86118, 1.2436 38.86...</td>\n",
       "    </tr>\n",
       "    <tr>\n",
       "      <th>4</th>\n",
       "      <td>5</td>\n",
       "      <td>ES.IGN.BDDAE.34060000000</td>\n",
       "      <td>ES</td>\n",
       "      <td>https://inspire.ec.europa.eu/codelist/Administ...</td>\n",
       "      <td>Comunidad autónoma</td>\n",
       "      <td>34060000000</td>\n",
       "      <td>Cantabria</td>\n",
       "      <td>ES1</td>\n",
       "      <td>ES13</td>\n",
       "      <td></td>\n",
       "      <td>MULTIPOLYGON (((-4.15851 42.86621, -4.16084 42...</td>\n",
       "    </tr>\n",
       "  </tbody>\n",
       "</table>\n",
       "</div>"
      ],
      "text/plain": [
       "   OBJECTID                 INSPIREID COUNTRY  \\\n",
       "0         1  ES.IGN.BDDAE.34010000000      ES   \n",
       "1         2  ES.IGN.BDDAE.34020000000      ES   \n",
       "2         3  ES.IGN.BDDAE.34030000000      ES   \n",
       "3         4  ES.IGN.BDDAE.34040000000      ES   \n",
       "4         5  ES.IGN.BDDAE.34060000000      ES   \n",
       "\n",
       "                                              NATLEV          NATLEVNAME  \\\n",
       "0  https://inspire.ec.europa.eu/codelist/Administ...  Comunidad autónoma   \n",
       "1  https://inspire.ec.europa.eu/codelist/Administ...  Comunidad autónoma   \n",
       "2  https://inspire.ec.europa.eu/codelist/Administ...  Comunidad autónoma   \n",
       "3  https://inspire.ec.europa.eu/codelist/Administ...  Comunidad autónoma   \n",
       "4  https://inspire.ec.europa.eu/codelist/Administ...  Comunidad autónoma   \n",
       "\n",
       "       NATCODE                NAMEUNIT CODNUT1 CODNUT2 CODNUT3  \\\n",
       "0  34010000000               Andalucía     ES6    ES61           \n",
       "1  34020000000                  Aragón     ES2    ES24           \n",
       "2  34030000000  Principado de Asturias     ES1    ES12           \n",
       "3  34040000000           Illes Balears     ES5    ES53           \n",
       "4  34060000000               Cantabria     ES1    ES13           \n",
       "\n",
       "                                            geometry  \n",
       "0  MULTIPOLYGON (((-6.3176 36.5288, -6.31759 36.5...  \n",
       "1  POLYGON ((-1.68752 40.57939, -1.68582 40.57991...  \n",
       "2  MULTIPOLYGON (((-6.85727 43.17325, -6.85767 43...  \n",
       "3  MULTIPOLYGON (((1.24355 38.86118, 1.2436 38.86...  \n",
       "4  MULTIPOLYGON (((-4.15851 42.86621, -4.16084 42...  "
      ]
     },
     "execution_count": 92,
     "metadata": {},
     "output_type": "execute_result"
    }
   ],
   "source": [
    "import geopandas as gpd\n",
    "\n",
    "# had to split CCAA.geojson into 3 parts to be able to upload it to github\n",
    "gdf_part1 = gpd.read_file('split_geojson_files/part_1.geojson')\n",
    "gdf_part2 = gpd.read_file('split_geojson_files/part_2.geojson')\n",
    "gdf_part3 = gpd.read_file('split_geojson_files/part_3.geojson')\n",
    "\n",
    "# we combine the 3 dataframes\n",
    "json_df = gpd.GeoDataFrame(pd.concat([gdf_part1, gdf_part2, gdf_part3], ignore_index=True))\n",
    "json_df.head()"
   ]
  },
  {
   "cell_type": "markdown",
   "id": "8e778856-e46f-4e19-8552-0d539f30cf73",
   "metadata": {},
   "source": [
    "# 2. Data cleaning"
   ]
  },
  {
   "cell_type": "markdown",
   "id": "75ba6dbc-d95e-4f02-a10b-b3ca80007695",
   "metadata": {},
   "source": [
    "We now select the columns we are interested from each dataframe."
   ]
  },
  {
   "cell_type": "code",
   "execution_count": 93,
   "id": "cdc48155-037f-4e76-a9da-946528b8445a",
   "metadata": {},
   "outputs": [],
   "source": [
    "df1=df1[['Comunidades y Ciudades Autónomas', 'Total']]\n",
    "df2=df2[['Comunidades autónomas','Total']]\n",
    "df5=df5[['Localización', 'Precio m2 jul 2024']]\n",
    "df6=df6[['Comunidades y Ciudades Autonómas', 'Total']]"
   ]
  },
  {
   "cell_type": "markdown",
   "id": "109b8ee3-e88f-4c67-b32e-a56c0d828d3a",
   "metadata": {},
   "source": [
    "We also change the labels so that the region header matches the header in the geojson file."
   ]
  },
  {
   "cell_type": "code",
   "execution_count": 94,
   "id": "f85adbc0-d5e7-4202-89ce-9f0d2b9907dc",
   "metadata": {},
   "outputs": [],
   "source": [
    "df1.columns=['NAMEUNIT', 'No of residents']\n",
    "df2.columns= ['NAMEUNIT','No of tourists']\n",
    "df3.columns=['NAMEUNIT', 'HAI']\n",
    "df5.columns=['NAMEUNIT', 'Rent m2']\n",
    "df6.columns=['NAMEUNIT', 'Monthly salary']"
   ]
  },
  {
   "cell_type": "code",
   "execution_count": 95,
   "id": "a08518e6-0eb4-461b-8518-37096a3b6e7f",
   "metadata": {},
   "outputs": [
    {
     "data": {
      "text/html": [
       "<div>\n",
       "<style scoped>\n",
       "    .dataframe tbody tr th:only-of-type {\n",
       "        vertical-align: middle;\n",
       "    }\n",
       "\n",
       "    .dataframe tbody tr th {\n",
       "        vertical-align: top;\n",
       "    }\n",
       "\n",
       "    .dataframe thead th {\n",
       "        text-align: right;\n",
       "    }\n",
       "</style>\n",
       "<table border=\"1\" class=\"dataframe\">\n",
       "  <thead>\n",
       "    <tr style=\"text-align: right;\">\n",
       "      <th></th>\n",
       "      <th>NAMEUNIT</th>\n",
       "      <th>No of residents</th>\n",
       "    </tr>\n",
       "  </thead>\n",
       "  <tbody>\n",
       "    <tr>\n",
       "      <th>0</th>\n",
       "      <td>NaN</td>\n",
       "      <td>46.248,3</td>\n",
       "    </tr>\n",
       "    <tr>\n",
       "      <th>1</th>\n",
       "      <td>Andalucía</td>\n",
       "      <td>8.345,0</td>\n",
       "    </tr>\n",
       "    <tr>\n",
       "      <th>2</th>\n",
       "      <td>Aragón</td>\n",
       "      <td>1.292,0</td>\n",
       "    </tr>\n",
       "    <tr>\n",
       "      <th>3</th>\n",
       "      <td>Asturias, Principado de</td>\n",
       "      <td>1.013,3</td>\n",
       "    </tr>\n",
       "    <tr>\n",
       "      <th>4</th>\n",
       "      <td>Balears, Illes</td>\n",
       "      <td>1.169,1</td>\n",
       "    </tr>\n",
       "  </tbody>\n",
       "</table>\n",
       "</div>"
      ],
      "text/plain": [
       "                  NAMEUNIT No of residents\n",
       "0                      NaN        46.248,3\n",
       "1                Andalucía         8.345,0\n",
       "2                   Aragón         1.292,0\n",
       "3  Asturias, Principado de         1.013,3\n",
       "4           Balears, Illes         1.169,1"
      ]
     },
     "execution_count": 95,
     "metadata": {},
     "output_type": "execute_result"
    }
   ],
   "source": [
    "df1.head()"
   ]
  },
  {
   "cell_type": "markdown",
   "id": "6be4b8a4-ea13-448a-91d6-de8c9b320aa2",
   "metadata": {},
   "source": [
    "We can see that the column 'No of residents' has points to indicate thousands and commas to indicate decimals, as well as most other numeric columns do. Since this is not standard, we remove the points from all values, which are only for readability and replace commas by points. Then, we convert the data to float. We define a function to do all this."
   ]
  },
  {
   "cell_type": "code",
   "execution_count": 96,
   "id": "7ddd274a-0c82-4491-b08a-345a22715bd0",
   "metadata": {},
   "outputs": [],
   "source": [
    "def clean(df, column):\n",
    "    df.loc[:,column] = df[column].str.replace('.', '').str.replace(',', '.').astype(float)"
   ]
  },
  {
   "cell_type": "code",
   "execution_count": 97,
   "id": "a87353e3-9b76-445d-89ff-f59925f2bf6e",
   "metadata": {},
   "outputs": [],
   "source": [
    "clean(df1,'No of residents')\n",
    "clean(df2,'No of tourists')\n",
    "clean(df3,'HAI')\n",
    "clean(df6,'Monthly salary')"
   ]
  },
  {
   "cell_type": "markdown",
   "id": "65978ecc-e132-44a7-9c6f-d1caf2b7bc0b",
   "metadata": {},
   "source": [
    "We remove '€/m2' from the 'Rent m2' columns in df5, and then we clean it."
   ]
  },
  {
   "cell_type": "code",
   "execution_count": 98,
   "id": "5a4941a5-f3e8-40c5-9f83-5f1b5c672501",
   "metadata": {},
   "outputs": [],
   "source": [
    "df5.loc[:, 'Rent m2'] = df5['Rent m2'].str.replace(' /m2', '', regex=False)\n",
    "clean(df5, 'Rent m2')"
   ]
  },
  {
   "cell_type": "markdown",
   "id": "9a11120d-cb2d-49f9-bebc-bddd564c270f",
   "metadata": {},
   "source": [
    "We remove the numbers from the region names in df2, which are the same as the region names in df1, but preceded by a number. "
   ]
  },
  {
   "cell_type": "code",
   "execution_count": 99,
   "id": "e3b11325-3729-42e6-a7b5-f8aa9d27d3bb",
   "metadata": {},
   "outputs": [],
   "source": [
    "df2['NAMEUNIT']=df2['NAMEUNIT'].replace(r'^\\d+\\s+', '', regex=True)"
   ]
  },
  {
   "cell_type": "markdown",
   "id": "63b48407-585b-437e-8bb8-5b84b5a9f926",
   "metadata": {},
   "source": [
    "We remove the row corresponding to Spain as a whole from df3."
   ]
  },
  {
   "cell_type": "code",
   "execution_count": 100,
   "id": "a6053c9c-dc44-42b5-b8c8-99a74fd01b3a",
   "metadata": {},
   "outputs": [],
   "source": [
    "df3 = df3[df3['NAMEUNIT'] != 'Media nacional']"
   ]
  },
  {
   "cell_type": "markdown",
   "id": "efae8c28-cc7f-41cf-b015-9c03e249fcf3",
   "metadata": {},
   "source": [
    "We replace the region names to match those in the geojson file."
   ]
  },
  {
   "cell_type": "code",
   "execution_count": 101,
   "id": "3dd7d506-56da-4764-adb3-97bfb5faeb48",
   "metadata": {},
   "outputs": [],
   "source": [
    "replacement1 = {\n",
    "    'Andalucía': 'Andalucía',\n",
    "    'Aragón': 'Aragón',\n",
    "    'Asturias, Principado de': 'Principado de Asturias',\n",
    "    'Balears, Illes': 'Illes Balears',\n",
    "    'Canarias': 'Canarias',\n",
    "    'Cantabria': 'Cantabria',\n",
    "    'Castilla y León': 'Castilla y León',\n",
    "    'Castilla - La Mancha': 'Castilla-La Mancha',\n",
    "    'Cataluña': 'Cataluña/Catalunya',\n",
    "    'Comunitat Valenciana': 'Comunitat Valenciana',\n",
    "    'Extremadura': 'Extremadura',\n",
    "    'Galicia': 'Galicia',\n",
    "    'Madrid, Comunidad de': 'Comunidad de Madrid',\n",
    "    'Murcia, Región de': 'Región de Murcia',\n",
    "    'Navarra, Comunidad Foral de': 'Comunidad Foral de Navarra',\n",
    "    'País Vasco': 'País Vasco/Euskadi',\n",
    "    'Rioja, La': 'La Rioja',\n",
    "    'Ceuta': 'Ciudad Autónoma de Ceuta',\n",
    "    'Melilla': 'Ciudad Autónoma de Melilla'\n",
    "}\n",
    "\n",
    "df1.loc[:,'NAMEUNIT'] = df1['NAMEUNIT'].replace(replacement1)\n",
    "df2.loc[:,'NAMEUNIT'] = df2['NAMEUNIT'].replace(replacement1)\n",
    "\n",
    "replacement3 = {\n",
    "    'Islas Baleares': 'Illes Balears',\n",
    "    'C. de Madrid': 'Comunidad de Madrid',\n",
    "    'Cataluña': 'Cataluña/Catalunya',\n",
    "    'Galicia': 'Galicia',\n",
    "    'País Vasco': 'País Vasco/Euskadi',\n",
    "    'Andalucía': 'Andalucía',\n",
    "    'Canarias': 'Canarias',\n",
    "    'Navarra': 'Comunidad Foral de Navarra',\n",
    "    'C. Valenciana': 'Comunitat Valenciana',\n",
    "    'Cantabria': 'Cantabria',\n",
    "    'Extremadura': 'Extremadura',\n",
    "    'Castilla y León': 'Castilla y León',\n",
    "    'La Rioja': 'La Rioja',\n",
    "    'Asturias': 'Principado de Asturias',\n",
    "    'Aragón': 'Aragón',\n",
    "    'Castilla-La Mancha': 'Castilla-La Mancha',\n",
    "    'Región de Murcia': 'Región de Murcia'\n",
    "}\n",
    "\n",
    "df3['NAMEUNIT'] = df3['NAMEUNIT'].replace(replacement3)\n",
    "\n",
    "\n",
    "replacement5 = {\n",
    "    'Andalucía': 'Andalucía',\n",
    "    'Aragón': 'Aragón',\n",
    "    'Asturias': 'Principado de Asturias',\n",
    "    'Baleares': 'Illes Balears',\n",
    "    'Canarias': 'Canarias',\n",
    "    'Cantabria': 'Cantabria',\n",
    "    'Castilla y León': 'Castilla y León',\n",
    "    'Castilla-La Mancha': 'Castilla-La Mancha',\n",
    "    'Cataluña': 'Cataluña/Catalunya',\n",
    "    'Comunitat Valenciana': 'Comunitat Valenciana',\n",
    "    'Euskadi': 'País Vasco/Euskadi',\n",
    "    'Extremadura': 'Extremadura',\n",
    "    'Galicia': 'Galicia',\n",
    "    'La Rioja': 'La Rioja',\n",
    "    'Madrid Comunidad': 'Comunidad de Madrid',\n",
    "    'Melilla': 'Melilla',\n",
    "    'Murcia Región': 'Región de Murcia',\n",
    "    'Navarra': 'Comunidad Foral de Navarra'\n",
    "}\n",
    "df5.loc[:, 'NAMEUNIT'] = df5['NAMEUNIT'].replace(replacement5)\n",
    "\n",
    "\n",
    "replacement6 = {\n",
    "    '01 Andalucía': 'Andalucía',\n",
    "    '02 Aragón': 'Aragón',\n",
    "    '03 Asturias, Principado de': 'Principado de Asturias',\n",
    "    '04 Balears, Illes': 'Illes Balears',\n",
    "    '05 Canarias': 'Canarias',\n",
    "    '06 Cantabria': 'Cantabria',\n",
    "    '07 Castilla y León': 'Castilla y León',\n",
    "    '08 Castilla - La Mancha': 'Castilla-La Mancha',\n",
    "    '09 Cataluña': 'Cataluña/Catalunya',\n",
    "    '10 Comunitat Valenciana': 'Comunitat Valenciana',\n",
    "    '11 Extremadura': 'Extremadura',\n",
    "    '12 Galicia': 'Galicia',\n",
    "    '13 Madrid, Comunidad de': 'Comunidad de Madrid',\n",
    "    '14 Murcia, Región de': 'Región de Murcia',\n",
    "    '15 Navarra, Comunidad Foral de': 'Comunidad Foral de Navarra',\n",
    "    '16 País Vasco': 'País Vasco/Euskadi',\n",
    "    '17 Rioja, La': 'La Rioja',\n",
    "    '18 Ceuta': 'Ceuta',\n",
    "    '19 Melilla': 'Melilla'\n",
    "}\n",
    "\n",
    "df6.loc[:, 'NAMEUNIT'] = df6['NAMEUNIT'].replace(replacement6)"
   ]
  },
  {
   "cell_type": "markdown",
   "id": "0cd4ee50-0bb0-4f9b-880f-a7083cb73c0d",
   "metadata": {},
   "source": [
    "# 3. Data preparation"
   ]
  },
  {
   "cell_type": "markdown",
   "id": "57a27347-f44a-4042-ab13-67f3455c86c4",
   "metadata": {},
   "source": [
    "We multiply by 40 the column 'Rent m2' to get the price of renting 40 m$^2$."
   ]
  },
  {
   "cell_type": "code",
   "execution_count": 102,
   "id": "7050a53a-326f-43c0-a0a3-abd114368db8",
   "metadata": {},
   "outputs": [],
   "source": [
    "df5.loc[:,'Rent m2'] = df5['Rent m2'] * 40\n",
    "df5.columns=['NAMEUNIT', 'Rent 40m2']"
   ]
  },
  {
   "cell_type": "markdown",
   "id": "37ea0d82-1620-4071-ac49-788580a7147e",
   "metadata": {},
   "source": [
    "Since the number of residents is in thousands we multiply the corresponding column in df1 by 1000."
   ]
  },
  {
   "cell_type": "code",
   "execution_count": 103,
   "id": "8384f806-e8ab-4cdb-9652-470a3e45f147",
   "metadata": {},
   "outputs": [],
   "source": [
    "df1['No of residents'] = df1['No of residents'] * 1000"
   ]
  },
  {
   "cell_type": "markdown",
   "id": "a11e85f1-7da0-4dda-b7d9-7e3276bc0aa2",
   "metadata": {},
   "source": [
    "We merge the two dataframes correponding to number of tourists and number of residents into a dataframe df. "
   ]
  },
  {
   "cell_type": "code",
   "execution_count": 104,
   "id": "6a8791ff-bc19-4c39-a7fb-735afa3d83d5",
   "metadata": {},
   "outputs": [
    {
     "data": {
      "text/html": [
       "<div>\n",
       "<style scoped>\n",
       "    .dataframe tbody tr th:only-of-type {\n",
       "        vertical-align: middle;\n",
       "    }\n",
       "\n",
       "    .dataframe tbody tr th {\n",
       "        vertical-align: top;\n",
       "    }\n",
       "\n",
       "    .dataframe thead th {\n",
       "        text-align: right;\n",
       "    }\n",
       "</style>\n",
       "<table border=\"1\" class=\"dataframe\">\n",
       "  <thead>\n",
       "    <tr style=\"text-align: right;\">\n",
       "      <th></th>\n",
       "      <th>NAMEUNIT</th>\n",
       "      <th>No of residents</th>\n",
       "      <th>No of tourists</th>\n",
       "    </tr>\n",
       "  </thead>\n",
       "  <tbody>\n",
       "    <tr>\n",
       "      <th>0</th>\n",
       "      <td>Andalucía</td>\n",
       "      <td>8345000.0</td>\n",
       "      <td>11681256.0</td>\n",
       "    </tr>\n",
       "    <tr>\n",
       "      <th>1</th>\n",
       "      <td>Aragón</td>\n",
       "      <td>1292000.0</td>\n",
       "      <td>545530.0</td>\n",
       "    </tr>\n",
       "    <tr>\n",
       "      <th>2</th>\n",
       "      <td>Principado de Asturias</td>\n",
       "      <td>1013300.0</td>\n",
       "      <td>299357.0</td>\n",
       "    </tr>\n",
       "    <tr>\n",
       "      <th>3</th>\n",
       "      <td>Illes Balears</td>\n",
       "      <td>1169100.0</td>\n",
       "      <td>13851598.0</td>\n",
       "    </tr>\n",
       "    <tr>\n",
       "      <th>4</th>\n",
       "      <td>Canarias</td>\n",
       "      <td>2174900.0</td>\n",
       "      <td>13752022.0</td>\n",
       "    </tr>\n",
       "  </tbody>\n",
       "</table>\n",
       "</div>"
      ],
      "text/plain": [
       "                 NAMEUNIT No of residents No of tourists\n",
       "0               Andalucía       8345000.0     11681256.0\n",
       "1                  Aragón       1292000.0       545530.0\n",
       "2  Principado de Asturias       1013300.0       299357.0\n",
       "3           Illes Balears       1169100.0     13851598.0\n",
       "4                Canarias       2174900.0     13752022.0"
      ]
     },
     "execution_count": 104,
     "metadata": {},
     "output_type": "execute_result"
    }
   ],
   "source": [
    "df = pd.merge(df1, df2, on='NAMEUNIT', how='inner')\n",
    "df.head()"
   ]
  },
  {
   "cell_type": "markdown",
   "id": "883df487-ab36-4636-a268-5ff2c3dcf7e0",
   "metadata": {},
   "source": [
    "We add a column to our new data frame df, which, for each region, tells us the ration of the number of tourists over the number of residents"
   ]
  },
  {
   "cell_type": "code",
   "execution_count": 105,
   "id": "42f935d4-c662-4b72-8f1e-0496e6f8cc1b",
   "metadata": {},
   "outputs": [
    {
     "data": {
      "text/html": [
       "<div>\n",
       "<style scoped>\n",
       "    .dataframe tbody tr th:only-of-type {\n",
       "        vertical-align: middle;\n",
       "    }\n",
       "\n",
       "    .dataframe tbody tr th {\n",
       "        vertical-align: top;\n",
       "    }\n",
       "\n",
       "    .dataframe thead th {\n",
       "        text-align: right;\n",
       "    }\n",
       "</style>\n",
       "<table border=\"1\" class=\"dataframe\">\n",
       "  <thead>\n",
       "    <tr style=\"text-align: right;\">\n",
       "      <th></th>\n",
       "      <th>NAMEUNIT</th>\n",
       "      <th>No of residents</th>\n",
       "      <th>No of tourists</th>\n",
       "      <th>Tourists ratio</th>\n",
       "    </tr>\n",
       "  </thead>\n",
       "  <tbody>\n",
       "    <tr>\n",
       "      <th>0</th>\n",
       "      <td>Andalucía</td>\n",
       "      <td>8345000.0</td>\n",
       "      <td>11681256.0</td>\n",
       "      <td>1.399791</td>\n",
       "    </tr>\n",
       "    <tr>\n",
       "      <th>1</th>\n",
       "      <td>Aragón</td>\n",
       "      <td>1292000.0</td>\n",
       "      <td>545530.0</td>\n",
       "      <td>0.422237</td>\n",
       "    </tr>\n",
       "    <tr>\n",
       "      <th>2</th>\n",
       "      <td>Principado de Asturias</td>\n",
       "      <td>1013300.0</td>\n",
       "      <td>299357.0</td>\n",
       "      <td>0.295428</td>\n",
       "    </tr>\n",
       "    <tr>\n",
       "      <th>3</th>\n",
       "      <td>Illes Balears</td>\n",
       "      <td>1169100.0</td>\n",
       "      <td>13851598.0</td>\n",
       "      <td>11.848087</td>\n",
       "    </tr>\n",
       "    <tr>\n",
       "      <th>4</th>\n",
       "      <td>Canarias</td>\n",
       "      <td>2174900.0</td>\n",
       "      <td>13752022.0</td>\n",
       "      <td>6.323059</td>\n",
       "    </tr>\n",
       "  </tbody>\n",
       "</table>\n",
       "</div>"
      ],
      "text/plain": [
       "                 NAMEUNIT No of residents No of tourists Tourists ratio\n",
       "0               Andalucía       8345000.0     11681256.0       1.399791\n",
       "1                  Aragón       1292000.0       545530.0       0.422237\n",
       "2  Principado de Asturias       1013300.0       299357.0       0.295428\n",
       "3           Illes Balears       1169100.0     13851598.0      11.848087\n",
       "4                Canarias       2174900.0     13752022.0       6.323059"
      ]
     },
     "execution_count": 105,
     "metadata": {},
     "output_type": "execute_result"
    }
   ],
   "source": [
    "df['Tourists ratio']=df['No of tourists']/df['No of residents']\n",
    "df.head()"
   ]
  },
  {
   "cell_type": "markdown",
   "id": "88939a26-ed43-44d8-a5a2-65177692b94d",
   "metadata": {},
   "source": [
    "We remove the last two rows, which correspond to cities for which there are no values.\n"
   ]
  },
  {
   "cell_type": "code",
   "execution_count": null,
   "id": "822b3c50-e88e-428f-b834-e27c90ca60d0",
   "metadata": {},
   "outputs": [],
   "source": [
    "df = df.iloc[0:-2]"
   ]
  },
  {
   "cell_type": "markdown",
   "id": "9aa94182-80be-4ace-848c-fc835e183a5b",
   "metadata": {},
   "source": [
    "We can now calculate the percentage of salary that would be spent on paying a 40 m$^2$ apartment. "
   ]
  },
  {
   "cell_type": "code",
   "execution_count": null,
   "id": "41acf1ac-d977-45cb-b8c9-1e68ae21f090",
   "metadata": {},
   "outputs": [],
   "source": [
    "df7=pd.merge(df5, df6, on='NAMEUNIT', how='inner')\n",
    "df7['Salary_rent']=df7['Rent 40m2']/df7['Monthly salary']*100\n",
    "df7"
   ]
  },
  {
   "cell_type": "code",
   "execution_count": null,
   "id": "a7205b5b-9450-440f-b778-2bf3f8a98073",
   "metadata": {},
   "outputs": [],
   "source": [
    "df4 = pd.merge(df, df3, on='NAMEUNIT', how='inner')\n",
    "map_df = pd.merge(json_df, df4, on='NAMEUNIT', how='inner')\n",
    "map_df=pd.merge(map_df, df7, on='NAMEUNIT', how='inner')\n",
    "map_df.head()"
   ]
  },
  {
   "cell_type": "markdown",
   "id": "4d7fff25-942d-4f5f-84ae-501350788f18",
   "metadata": {},
   "source": [
    "We convert the percentage to float and round it up to 2 decimals."
   ]
  },
  {
   "cell_type": "code",
   "execution_count": null,
   "id": "a5f5374f-4a57-4ece-8823-1cdb03029c7d",
   "metadata": {},
   "outputs": [],
   "source": [
    "map_df['Salary_rent'] = map_df['Salary_rent'].astype(float)\n",
    "map_df['Salary_rent']=map_df['Salary_rent'].round(2)"
   ]
  },
  {
   "cell_type": "code",
   "execution_count": null,
   "id": "8e2989ed-031a-48eb-b121-f2ed50058f67",
   "metadata": {},
   "outputs": [],
   "source": [
    "map_df.head()"
   ]
  },
  {
   "cell_type": "markdown",
   "id": "20ac6e2b-ffe4-476e-bae0-2c49967ca0a4",
   "metadata": {},
   "source": [
    "# 4. Data Visualisation"
   ]
  },
  {
   "cell_type": "markdown",
   "id": "7a4d8f63-6b61-45c8-9901-e19b554d5288",
   "metadata": {},
   "source": [
    "Now our data is clean and prepared for visualisation. We will create three different maps to visualise our data:\n",
    "1. Ratio of tourists to residents by region\n",
    "2. HAI per region\n",
    "3. RAI per region"
   ]
  },
  {
   "cell_type": "markdown",
   "id": "30aa56e2-9f82-4633-bb18-287fdfb97919",
   "metadata": {},
   "source": [
    "## 1. Ratio of tourists to residents by region"
   ]
  },
  {
   "cell_type": "markdown",
   "id": "6d105d60-8021-4b1d-b7df-d4a0ead273be",
   "metadata": {},
   "source": [
    "Now we make a choropleth map where each region has a color shade corresponding to how large the ratio of tourists to residents is."
   ]
  },
  {
   "cell_type": "code",
   "execution_count": null,
   "id": "92b3e9ac-e8da-4c5d-9053-45484c3be4b2",
   "metadata": {},
   "outputs": [],
   "source": [
    "fig = px.choropleth_mapbox(map_df,\n",
    "                                 locations=map_df[\"NAMEUNIT\"],\n",
    "                                 geojson=json_df,\n",
    "                                 featureidkey=\"properties.NAMEUNIT\", \n",
    "                                 color=map_df['Tourists ratio'],\n",
    "                                 range_color=(map_df['Tourists ratio'].min(), map_df['Tourists ratio'].max()),\n",
    "                                 zoom=3.5,  \n",
    "                                 center={\"lat\": 35.416775, \"lon\": -9.703790},\n",
    "                                 mapbox_style=\"carto-positron\",\n",
    "                                 color_continuous_scale=px.colors.sequential.YlGnBu,\n",
    "                                 title='Ratio of tourists by residents by region'\n",
    "                                )\n",
    "fig.update_layout(margin={\"r\":0,\"t\":0,\"l\":0,\"b\":0})\n",
    "fig.show()"
   ]
  },
  {
   "cell_type": "markdown",
   "id": "87cde35c-c83f-476b-aceb-ea5b65e883f2",
   "metadata": {},
   "source": [
    "We can see that the region with the highest ratio of tourists by residents is, by far, the Balearic Islands. After that, the Canary Islands (west to Africa) have the second highest ratio."
   ]
  },
  {
   "cell_type": "markdown",
   "id": "5f780504-93bf-4acb-bfc1-f97591a4294e",
   "metadata": {},
   "source": [
    "## 2. HAI per region"
   ]
  },
  {
   "cell_type": "markdown",
   "id": "3babce20-d8dc-4bc9-a1a0-442170907db2",
   "metadata": {},
   "source": [
    "Similarly, we make a choropleth map where each region is coloured in a shade corresponding to how large its HAI is."
   ]
  },
  {
   "cell_type": "code",
   "execution_count": null,
   "id": "33c4352f-202e-46d1-9f73-016cec6b95aa",
   "metadata": {},
   "outputs": [],
   "source": [
    "fig = px.choropleth_mapbox(map_df,\n",
    "    locations=\"NAMEUNIT\",\n",
    "    geojson=json_df,\n",
    "    featureidkey=\"properties.NAMEUNIT\",\n",
    "    color=\"HAI\",\n",
    "    range_color=(map_df['HAI'].min(), map_df['HAI'].max()),\n",
    "    zoom=3.5,\n",
    "    center={\"lat\": 35.416775, \"lon\": -9.703790},\n",
    "    mapbox_style=\"carto-positron\",\n",
    "    color_continuous_scale=px.colors.sequential.YlGnBu,\n",
    "    title='Housing Affordability Index by Region'\n",
    ")\n",
    "fig.update_layout(margin={\"r\":0,\"t\":0,\"l\":0,\"b\":0})\n",
    "fig.show()"
   ]
  },
  {
   "cell_type": "markdown",
   "id": "6ada2094-5ab4-4648-b205-70e49639bb4c",
   "metadata": {},
   "source": [
    "We can see that the region with the highest HAI is, by far, the Balearic Islands. "
   ]
  },
  {
   "cell_type": "markdown",
   "id": "67579911-ccf7-46ed-a45d-8cc14674d417",
   "metadata": {},
   "source": [
    "## 3. RAI per region"
   ]
  },
  {
   "cell_type": "markdown",
   "id": "eaae5129-3a46-41e9-b245-216c07044453",
   "metadata": {},
   "source": [
    "Finally, we make a choropleth map where each region is coloured in a shade corresponding to how large its RAI is."
   ]
  },
  {
   "cell_type": "code",
   "execution_count": null,
   "id": "75e18a13-7018-4d98-ad12-72395ad60bba",
   "metadata": {},
   "outputs": [],
   "source": [
    "fig = px.choropleth_mapbox(\n",
    "    map_df,\n",
    "    locations=\"NAMEUNIT\",\n",
    "    geojson=json_df,\n",
    "    featureidkey=\"properties.NAMEUNIT\",\n",
    "    color=\"Salary_rent\",\n",
    "    range_color=(map_df['Salary_rent'].min(), map_df['Salary_rent'].max()),\n",
    "    zoom=3.5,\n",
    "    center={\"lat\": 35.416775, \"lon\": -9.703790},\n",
    "    mapbox_style=\"carto-positron\",\n",
    "    color_continuous_scale=px.colors.sequential.YlGnBu,\n",
    "    title='Ratio of tourists by residents by region'\n",
    ")\n",
    "\n",
    "fig.update_layout(margin={\"r\":0,\"t\":0,\"l\":0,\"b\":0})\n",
    "fig.show()"
   ]
  },
  {
   "cell_type": "markdown",
   "id": "639503d9-6e14-44ce-841a-2852e63f8e7f",
   "metadata": {},
   "source": [
    "The Balearic Islands have high HAI, high RAI and high tourists ratio, while regions like Extremadura have low HAI, low RAI and low tourists ratio. In the next section, we will investigate if this indicates a correlation between these features."
   ]
  },
  {
   "cell_type": "markdown",
   "id": "d5579c54-6d43-4e71-aa86-0306e0fbc403",
   "metadata": {},
   "source": [
    "# 5. Modeling"
   ]
  },
  {
   "cell_type": "markdown",
   "id": "f7d811db-d90c-4bcb-a459-5548d0c7730d",
   "metadata": {},
   "source": [
    "We first check the Pearson correlation coefficient between tourism and HAI. "
   ]
  },
  {
   "cell_type": "code",
   "execution_count": null,
   "id": "c220b731-7453-404a-8922-2c444e2e25dd",
   "metadata": {},
   "outputs": [],
   "source": [
    "import scipy.stats as stats\n",
    "\n",
    "pearson_corr, _ = stats.pearsonr(df4['Tourists ratio'].astype('float'), df4['HAI'].astype('float'))\n",
    "print(\"Pearson Correlation Coefficient:\", pearson_corr)"
   ]
  },
  {
   "cell_type": "markdown",
   "id": "b7ef3327-11fe-4b0e-b7f2-a616b287e5f0",
   "metadata": {},
   "source": [
    "Similarly, we check the Pearson correlation coefficient between tourism and RAI. "
   ]
  },
  {
   "cell_type": "code",
   "execution_count": null,
   "id": "3210447c-639e-4742-80ac-d316f223c7cb",
   "metadata": {},
   "outputs": [],
   "source": [
    "import scipy.stats as stats\n",
    "\n",
    "pearson_corr, _ = stats.pearsonr(map_df['Tourists ratio'].astype('float'), map_df['Salary_rent'].astype('float'))\n",
    "print(\"Pearson Correlation Coefficient:\", pearson_corr)"
   ]
  },
  {
   "cell_type": "markdown",
   "id": "fc3873d5-6ee4-40f4-9f63-0dbb5bc77674",
   "metadata": {},
   "source": [
    "Both Pearson correlation coefficients are positive and relatively close to 1, providing some evidence of a positive linear relationship between tourism and HAI, and tourism and RAI. However, the data set is quite reduced in size to conclude anything."
   ]
  },
  {
   "cell_type": "markdown",
   "id": "4223391a-ec30-48e8-93ae-e334dde8b01c",
   "metadata": {},
   "source": [
    "We also compute the Spearman's rank correlation coefficient."
   ]
  },
  {
   "cell_type": "code",
   "execution_count": null,
   "id": "05f3283b-e7f9-4360-9d5f-7bc3cdaaa3b6",
   "metadata": {
    "scrolled": true
   },
   "outputs": [],
   "source": [
    "spearman_corr, _ = stats.spearmanr(df4['Tourists ratio'].astype('float'), df4['HAI'].astype('float'))\n",
    "print(\"Spearman's Rank Correlation Coefficient:\", spearman_corr)"
   ]
  },
  {
   "cell_type": "code",
   "execution_count": null,
   "id": "131e9c7f-9636-4bc8-b081-44b5fd20a8b6",
   "metadata": {},
   "outputs": [],
   "source": [
    "import scipy.stats as stats\n",
    "\n",
    "spearman_corr, _ = stats.spearmanr(map_df['Tourists ratio'].astype('float'),  map_df['Salary_rent'].astype('float'))\n",
    "print(\"Spearman's Rank Correlation Coefficient:\", spearman_corr)\n"
   ]
  },
  {
   "cell_type": "markdown",
   "id": "f775c027-e734-46f0-958d-bb74924fe583",
   "metadata": {},
   "source": [
    "Both Spearman's Rank correlation coefficients are positive and relatively close to 1, providing some evidence of a monotonic monotonically non-decreasing relationship between tourism and both HAI and RAI."
   ]
  },
  {
   "cell_type": "markdown",
   "id": "93329604-dd1c-46dc-98b6-128ff99daf77",
   "metadata": {},
   "source": [
    "We now try to estimate the relationship between tourism and HAI, and between tourism and RAI. "
   ]
  },
  {
   "cell_type": "markdown",
   "id": "85107ad7-2ae1-4f2b-b663-3c54de709e90",
   "metadata": {},
   "source": [
    "## 5.1 Linear Regression"
   ]
  },
  {
   "cell_type": "markdown",
   "id": "c88ccfc5-5adc-4599-bc78-3e287a200a60",
   "metadata": {},
   "source": [
    "### Tourists against HAI"
   ]
  },
  {
   "cell_type": "markdown",
   "id": "5b274d9a-8605-4897-acec-e0f6f97095e3",
   "metadata": {},
   "source": [
    "We start with a linear regression to see if the relation between the ratio of tourists over residents and the RAI is linear."
   ]
  },
  {
   "cell_type": "code",
   "execution_count": null,
   "id": "5054b500-99b7-4b73-91e5-fe1351124972",
   "metadata": {},
   "outputs": [],
   "source": [
    "X=df4[['Tourists ratio']].values.reshape(-1, 1)\n",
    "y=df4['HAI'].values"
   ]
  },
  {
   "cell_type": "markdown",
   "id": "9011b5a2-c226-4f78-ac29-71c4f90393c8",
   "metadata": {},
   "source": [
    "We make a linear regression object and fit it to the data"
   ]
  },
  {
   "cell_type": "code",
   "execution_count": null,
   "id": "50a36a37-6892-4685-9c2d-299714eec652",
   "metadata": {},
   "outputs": [],
   "source": [
    "model = LinearRegression()\n",
    "model.fit(X, y)"
   ]
  },
  {
   "cell_type": "markdown",
   "id": "f21b9595-a5b2-4dca-aa2d-fa0a32f5791e",
   "metadata": {},
   "source": [
    "We predict the y coordinates given the x coordinates (tourists ratio) with our model."
   ]
  },
  {
   "cell_type": "code",
   "execution_count": null,
   "id": "169fe3fc-6dbd-45a0-995d-893495ddae4a",
   "metadata": {},
   "outputs": [],
   "source": [
    "y_pred = model.predict(X)"
   ]
  },
  {
   "cell_type": "markdown",
   "id": "3381689b-0d3c-41dc-81e4-71d0f050842c",
   "metadata": {},
   "source": [
    "We test how accurate the model is."
   ]
  },
  {
   "cell_type": "code",
   "execution_count": null,
   "id": "0c7e5fd9-21da-416b-9ed9-a9074140f660",
   "metadata": {},
   "outputs": [],
   "source": [
    "from sklearn.metrics import r2_score\n",
    "\n",
    "r2_score(y, y_pred)"
   ]
  },
  {
   "cell_type": "markdown",
   "id": "5a2d5d0a-fc06-4ce5-a3ba-fc81f9e241f2",
   "metadata": {},
   "source": [
    "We now plot the model with the data points."
   ]
  },
  {
   "cell_type": "code",
   "execution_count": null,
   "id": "7308ca1d-e4bb-40c0-876b-d42f747fe448",
   "metadata": {},
   "outputs": [],
   "source": [
    "plt.figure(figsize=(10, 6))\n",
    "plt.scatter(df4['Tourists ratio'], df4['HAI'], color='blue', label='Amount of tourism against the HAI')  \n",
    "plt.plot(df4['Tourists ratio'], y_pred, color='red', linewidth=2, label='Regression Line')  \n",
    "\n",
    "plt.xlabel('Number of tourists by number of residents')\n",
    "plt.ylabel('Number of years needed to buy a house (HAI)')\n",
    "plt.title('Amount of tourism against the HAI')\n",
    "plt.legend()\n",
    "plt.grid(True)\n",
    "\n",
    "plt\n"
   ]
  },
  {
   "cell_type": "markdown",
   "id": "2b9cb7e6-0d6d-460b-843f-1019775b9136",
   "metadata": {},
   "source": [
    "While this R$^2$ of the linear model is relatively close to 1, suggesting that the model performs reasonably well, there's not enough data points to conclude anything. "
   ]
  },
  {
   "cell_type": "markdown",
   "id": "ea6741aa-26f7-453f-b31e-37ccbc0fbae7",
   "metadata": {},
   "source": [
    "### Tourism against RAI"
   ]
  },
  {
   "cell_type": "markdown",
   "id": "1a6172a8-5a2c-4aca-806e-5b6cb16176f5",
   "metadata": {},
   "source": [
    "Similarly, we check if the relation between the ratio of tourists over residents and the RAI is linear."
   ]
  },
  {
   "cell_type": "code",
   "execution_count": null,
   "id": "6c7facd0-e1d3-4f63-a859-65c77c1474b5",
   "metadata": {},
   "outputs": [],
   "source": [
    "X=map_df[['Tourists ratio']].values.reshape(-1, 1)\n",
    "y=map_df['Salary_rent'].values"
   ]
  },
  {
   "cell_type": "markdown",
   "id": "082add82-8265-44fe-8998-9db6910e3a7f",
   "metadata": {},
   "source": [
    "We make a linear regression object and fit it to the data"
   ]
  },
  {
   "cell_type": "code",
   "execution_count": null,
   "id": "8e460997-013d-4015-8142-d9f103e5c416",
   "metadata": {},
   "outputs": [],
   "source": [
    "mdl = LinearRegression()\n",
    "mdl.fit(X,y)"
   ]
  },
  {
   "cell_type": "markdown",
   "id": "b6e710e4-a2b8-4c49-834d-cd58eb72bafd",
   "metadata": {},
   "source": [
    "We predict the y coordinates given the x coordinates (tourists ratio) with our model."
   ]
  },
  {
   "cell_type": "code",
   "execution_count": null,
   "id": "26fb9cc6-db6a-4d8d-b154-3faa79e8d569",
   "metadata": {},
   "outputs": [],
   "source": [
    "y_pred = mdl.predict(X)"
   ]
  },
  {
   "cell_type": "markdown",
   "id": "a9c9b984-d759-46e3-a8d0-d059a9e6cead",
   "metadata": {},
   "source": [
    "We evaluate the model's performance."
   ]
  },
  {
   "cell_type": "code",
   "execution_count": null,
   "id": "7ac4d7e3-2b8c-4c8e-b0e8-ba2bd89eff2c",
   "metadata": {},
   "outputs": [],
   "source": [
    "r2_score(y, y_pred)"
   ]
  },
  {
   "cell_type": "markdown",
   "id": "f5a3aeb6-0fec-4016-8cfc-687765948afc",
   "metadata": {},
   "source": [
    "We now plot the model with the data points."
   ]
  },
  {
   "cell_type": "code",
   "execution_count": null,
   "id": "ca30a335-b4fa-42fd-b02a-ac2420d2beb0",
   "metadata": {},
   "outputs": [],
   "source": [
    "plt.figure(figsize=(10, 6))\n",
    "plt.scatter(map_df['Tourists ratio'], map_df['Salary_rent'], color='blue', label='Amount of tourism against the RAI')  \n",
    "plt.plot(map_df['Tourists ratio'], y_pred, color='red', linewidth=2, label='Regression Line') \n",
    "\n",
    "plt.xlabel('Number of tourists by number of residents')\n",
    "plt.ylabel('Percentage of income spent on rent (RAI)')\n",
    "plt.title('Amount of tourism against the RAI')\n",
    "plt.legend()\n",
    "plt.grid(True)\n",
    "\n",
    "plt"
   ]
  },
  {
   "cell_type": "markdown",
   "id": "d8e63439-9065-401a-95d2-6e2f2604bca9",
   "metadata": {},
   "source": [
    "A linear regression is not a good model, but we can see that a logarithmic regression will do much better."
   ]
  },
  {
   "cell_type": "markdown",
   "id": "5c5bef27-8620-434a-b1e2-4fb28a27ec66",
   "metadata": {},
   "source": [
    "## 5.2 Polynomial regression"
   ]
  },
  {
   "cell_type": "markdown",
   "id": "5c0c25c1-1a72-4851-b8be-7f66b9a1f28c",
   "metadata": {},
   "source": [
    "### Tourism against HAI"
   ]
  },
  {
   "cell_type": "markdown",
   "id": "6c685af7-e4d5-4fcc-b9ee-f1c7148a67cb",
   "metadata": {},
   "source": [
    "We now try a polynomial regression instead. We start by creating a polynomial features object."
   ]
  },
  {
   "cell_type": "code",
   "execution_count": null,
   "id": "04879d95-0240-4aa7-ab9c-ae536aeaf553",
   "metadata": {},
   "outputs": [],
   "source": [
    "from sklearn.preprocessing import PolynomialFeatures\n",
    "\n",
    "X = map_df[['Tourists ratio']].values  \n",
    "y = map_df[['HAI']].values    \n",
    "\n",
    "poly = PolynomialFeatures(degree=2)\n",
    "X_poly = poly.fit_transform(X)"
   ]
  },
  {
   "cell_type": "markdown",
   "id": "ad1e3349-847c-4573-a2bd-14d24449d709",
   "metadata": {},
   "source": [
    "We now fit the model to the data."
   ]
  },
  {
   "cell_type": "code",
   "execution_count": null,
   "id": "4caf913d-814f-49ed-926b-a5e5b8a4d6ba",
   "metadata": {},
   "outputs": [],
   "source": [
    "model = LinearRegression()\n",
    "model.fit(X_poly, y)"
   ]
  },
  {
   "cell_type": "markdown",
   "id": "a97b3a24-fcfb-4a0b-8db6-4e666a16f03e",
   "metadata": {},
   "source": [
    "We predict y-values."
   ]
  },
  {
   "cell_type": "code",
   "execution_count": null,
   "id": "3283d25f-3b24-4476-807e-538991c00ace",
   "metadata": {},
   "outputs": [],
   "source": [
    "y_pred = model.predict(X_poly)"
   ]
  },
  {
   "cell_type": "markdown",
   "id": "25d734df-e721-4bf3-9881-6044b2543ada",
   "metadata": {},
   "source": [
    "We compute R$^2$."
   ]
  },
  {
   "cell_type": "code",
   "execution_count": null,
   "id": "c2e46b58-0226-4f97-825d-6bd9bcfee18d",
   "metadata": {},
   "outputs": [],
   "source": [
    "r2 = r2_score(y, y_pred)\n",
    "\n",
    "print(f\"R^2: {r2:.4f}\")"
   ]
  },
  {
   "cell_type": "markdown",
   "id": "bef53914-6b6e-4204-a77f-19aa081a39d7",
   "metadata": {},
   "source": [
    "This score is better than the 0.77 for the linear model. We plot the result."
   ]
  },
  {
   "cell_type": "code",
   "execution_count": null,
   "id": "90125229-e320-422f-ab86-c3ab5b397e38",
   "metadata": {},
   "outputs": [],
   "source": [
    "plt.figure(figsize=(8, 6))\n",
    "plt.scatter(X, y, label='Amount of tourism against the HAI')\n",
    "\n",
    "X_line = np.linspace(X.min(), X.max(), 100).reshape(-1, 1)\n",
    "X_line_poly = poly.transform(X_line)\n",
    "y_line = model.predict(X_line_poly)\n",
    "\n",
    "plt.plot(X_line, y_line, color='red', label='Polynomial regression')\n",
    "\n",
    "plt.xlabel('Number of tourists by number of residents')\n",
    "plt.ylabel('Number of years needed to buy a house (HAI)')\n",
    "plt.title('Amount of tourism against the HAI')\n",
    "plt.legend()\n",
    "\n",
    "plt\n"
   ]
  },
  {
   "cell_type": "markdown",
   "id": "988581a4-2815-48e4-a5a5-51f98a892abb",
   "metadata": {},
   "source": [
    "This model is somewhat better than the linear model."
   ]
  },
  {
   "cell_type": "markdown",
   "id": "6e844a6b-de32-4103-902f-bbeb188e8cc2",
   "metadata": {},
   "source": [
    "### Tourism against RAI"
   ]
  },
  {
   "cell_type": "markdown",
   "id": "1a8aeccc-b2e7-4fdc-b7ef-cef8aae53357",
   "metadata": {},
   "source": [
    "Similarly, we try a logarithmic regression to model our tourism and RAI data. We start by creating a polynomial features object of degree two."
   ]
  },
  {
   "cell_type": "code",
   "execution_count": null,
   "id": "bc6b0116-7b87-4c1e-8d6a-f11b6d700d92",
   "metadata": {},
   "outputs": [],
   "source": [
    "X = map_df[['Tourists ratio']].values  \n",
    "y = map_df[['Salary_rent']].values     "
   ]
  },
  {
   "cell_type": "code",
   "execution_count": null,
   "id": "bd2b64ec-4364-455e-ac27-b524365c96cc",
   "metadata": {},
   "outputs": [],
   "source": [
    "# We convert the elements in X to float \n",
    "X = np.array(X, dtype=float)\n",
    "\n",
    "# We take the logarithm of all elements in X\n",
    "X_log = np.log(X)"
   ]
  },
  {
   "cell_type": "markdown",
   "id": "b8b727c3-b35b-4b3e-a148-422eb0ef0f68",
   "metadata": {},
   "source": [
    "We now fit the model to the data."
   ]
  },
  {
   "cell_type": "code",
   "execution_count": null,
   "id": "a03c1e37-3c69-42c3-84cf-9feba4ad5d87",
   "metadata": {},
   "outputs": [],
   "source": [
    "mdl = LinearRegression()\n",
    "mdl.fit(X_log, y)"
   ]
  },
  {
   "cell_type": "markdown",
   "id": "0ab514d2-2a88-42e9-9e6d-3daf7fe11a94",
   "metadata": {},
   "source": [
    "We predict y-values."
   ]
  },
  {
   "cell_type": "code",
   "execution_count": null,
   "id": "21cf1ed3-b03d-4f1b-805d-61ee3cf1f294",
   "metadata": {},
   "outputs": [],
   "source": [
    "y_pred = mdl.predict(X_log)"
   ]
  },
  {
   "cell_type": "markdown",
   "id": "1ef5ab71-5d10-421a-8000-af9aaf7c53a9",
   "metadata": {},
   "source": [
    "We compute the R$^2$ value"
   ]
  },
  {
   "cell_type": "code",
   "execution_count": null,
   "id": "590f49fb-74c4-4e53-b9ab-7234a7f17b62",
   "metadata": {},
   "outputs": [],
   "source": [
    "r2 = r2_score(y, y_pred)\n",
    "\n",
    "print(f\"R^2: {r2:.4f}\")"
   ]
  },
  {
   "cell_type": "markdown",
   "id": "10b0319d-a254-470a-bb44-0053b64e6476",
   "metadata": {},
   "source": [
    "This score is much better than the 0.52 from the linear model. We plot the result."
   ]
  },
  {
   "cell_type": "code",
   "execution_count": null,
   "id": "8118f22b-0065-4b7c-8112-79b1352d2c92",
   "metadata": {},
   "outputs": [],
   "source": [
    "# Plotting the results in log mode\n",
    "plt.figure(figsize=(10, 6))\n",
    "plt.scatter(X_log, y, color='blue', label='Amount of tourism against the RAI')  \n",
    "plt.plot(X_log, y_pred, color='red', linewidth=2, label='Logarithmic Regression Line') \n",
    "\n",
    "plt.xlabel('Number of tourists by number of residents')\n",
    "plt.ylabel('Percentage of income spent on rent (RAI)')\n",
    "plt.title('Amount of tourism against the RAI')\n",
    "plt.legend()\n",
    "plt.grid(True)\n",
    "plt.show()"
   ]
  },
  {
   "cell_type": "markdown",
   "id": "6966d973-2ee9-4f20-9251-766a339b7550",
   "metadata": {},
   "source": [
    "We also plot the resutls with the values of X before taking the logarithm."
   ]
  },
  {
   "cell_type": "code",
   "execution_count": null,
   "id": "dccbc3a7-8245-4b05-977e-03ee19775bd7",
   "metadata": {},
   "outputs": [],
   "source": [
    "X_range = np.linspace(min(X), max(X), 500)  \n",
    "X_range_log = np.log(X_range)\n",
    "y_range_pred = mdl.predict(X_range_log)\n",
    "\n",
    "plt.figure(figsize=(10, 6))\n",
    "plt.scatter(X, y, color='blue', label='Amount of tourism against the RAI')  \n",
    "plt.plot(X_range, y_range_pred, color='red', linewidth=2, label='Logarithmic Regression Line') \n",
    "\n",
    "plt.xlabel('Number of tourists by number of residents')\n",
    "plt.ylabel('Percentage of income spent on rent (RAI)')\n",
    "plt.title('Amount of tourism against the RAI')\n",
    "plt.legend()\n",
    "plt.grid(True)\n",
    "plt.show()\n"
   ]
  },
  {
   "cell_type": "markdown",
   "id": "d1bbf88e-4d14-4ddb-94ac-a69cbef5f84c",
   "metadata": {},
   "source": [
    "This model fits the data much better than the linear model."
   ]
  },
  {
   "cell_type": "markdown",
   "id": "f063e19a-b2ba-42fc-93ff-39238d7389f6",
   "metadata": {},
   "source": [
    "## 5.3 Testing"
   ]
  },
  {
   "cell_type": "markdown",
   "id": "e82dbc2c-7e94-4296-999a-b1e312047688",
   "metadata": {},
   "source": [
    "Since the polynomial model performed much better than the linear model, in this section we explore the polynomial model further."
   ]
  },
  {
   "cell_type": "markdown",
   "id": "325c7591-6ca2-4552-9e49-849cd6ce357a",
   "metadata": {},
   "source": [
    "### Tourism against RAI"
   ]
  },
  {
   "cell_type": "markdown",
   "id": "bb0081a8-473c-426e-b97d-9dfa546eef9c",
   "metadata": {},
   "source": [
    "We split our data into training and testing."
   ]
  },
  {
   "cell_type": "code",
   "execution_count": null,
   "id": "8f4b69c4-3c25-4239-add5-d91102420090",
   "metadata": {},
   "outputs": [],
   "source": [
    "X = map_df[['Tourists ratio']].values  \n",
    "y = map_df[['Salary_rent']].values   \n",
    "\n",
    "X_train, X_test, y_train, y_test = train_test_split(X, y, test_size=0.3, random_state=24)"
   ]
  },
  {
   "cell_type": "markdown",
   "id": "f2a2f28c-8c83-4e5e-8403-bcd8d2d4f62e",
   "metadata": {},
   "source": [
    "We create a polynomial features object and we transform X_train and X_test to include their powers."
   ]
  },
  {
   "cell_type": "code",
   "execution_count": null,
   "id": "3e4da2cd-0250-4a88-ad59-559f09441653",
   "metadata": {},
   "outputs": [],
   "source": [
    "# We convert the elements in X to float \n",
    "X_train = np.array(X_train, dtype=float)\n",
    "X_test = np.array(X_test, dtype=float)\n",
    "\n",
    "# We take the logarithm of all elements in X\n",
    "X_train_log = np.log(X_train)\n",
    "X_test_log = np.log(X_test)"
   ]
  },
  {
   "cell_type": "markdown",
   "id": "286ed3a0-adbd-43f4-9e1f-82f925358693",
   "metadata": {},
   "source": [
    "We now list some values of alpha and perform ridge regression with each alpha. We then compute R$^2$ and store the alpha with the highest score."
   ]
  },
  {
   "cell_type": "code",
   "execution_count": null,
   "id": "d72615f2-43cc-4a17-8339-e4ae1c3701ab",
   "metadata": {},
   "outputs": [],
   "source": [
    "from sklearn.linear_model import Ridge\n",
    "\n",
    "#we list some values of alpha for ridge regression\n",
    "alpha_values = [0.1, 1, 2,3,4,5,6,7,10,15]\n",
    "\n",
    "#we initialise best_alpha and best_r2\n",
    "best_alpha = None\n",
    "best_r2 = -np.inf\n",
    "\n",
    "#we loop through the list of alpha values \n",
    "for alpha in alpha_values:\n",
    "\n",
    "    #we create a ridge regression model with each alpha\n",
    "    model = Ridge(alpha=alpha)\n",
    "\n",
    "    #we fit the model to the transformed training data\n",
    "    model.fit(X_train_log, y_train)\n",
    "\n",
    "    #we predict the y values of both the training and the testing data\n",
    "    y_test_pred = model.predict(X_test_log)\n",
    "    y_train_pred = model.predict(X_train_log)\n",
    "\n",
    "    #we compute R^2 with both the training and the testing data.\n",
    "    test_r2 = r2_score(y_test, y_test_pred)\n",
    "    train_r2 = r2_score(y_train, y_train_pred)\n",
    "\n",
    "    #we compute the avarage of both scores\n",
    "    avg_r2=(test_r2+train_r2)/2\n",
    "\n",
    "    #we update the best_r2 and best_alpha\n",
    "    if avg_r2 > best_r2:\n",
    "        best_r2 = avg_r2\n",
    "        best_alpha = alpha\n",
    "       \n",
    "best_alpha"
   ]
  },
  {
   "cell_type": "markdown",
   "id": "82db5291-502b-461d-85c7-4e632a7bc936",
   "metadata": {},
   "source": [
    "We now do a ridge regression with the best alpha."
   ]
  },
  {
   "cell_type": "code",
   "execution_count": null,
   "id": "85b70fdb-92f2-4c0a-b190-3cb3ea89af46",
   "metadata": {},
   "outputs": [],
   "source": [
    "model = Ridge(alpha=best_alpha) \n",
    "model.fit(X_train_log, y_train)"
   ]
  },
  {
   "cell_type": "markdown",
   "id": "0de5a7a5-cbc2-4161-b242-a9d16824e087",
   "metadata": {},
   "source": [
    "We predict the y-values."
   ]
  },
  {
   "cell_type": "code",
   "execution_count": null,
   "id": "4d7b090e-272a-408a-91e0-c670b8347cd4",
   "metadata": {},
   "outputs": [],
   "source": [
    "y_train_pred = model.predict(X_train_log)\n",
    "y_test_pred = model.predict(X_test_log)"
   ]
  },
  {
   "cell_type": "markdown",
   "id": "3ead161b-bc77-4be8-aa74-e0a1321d6031",
   "metadata": {},
   "source": [
    "We evaluate the model by computing R^2, MSE, and RMSE."
   ]
  },
  {
   "cell_type": "code",
   "execution_count": null,
   "id": "1f23b897-83b2-43e6-93aa-f15e16b383af",
   "metadata": {},
   "outputs": [],
   "source": [
    "print(\"Training set performance:\")\n",
    "print(f\"R-squared: {r2_score(y_train, y_train_pred):.3f}\")\n",
    "print(f\"Mean Squared Error: {mean_squared_error(y_train, y_train_pred):.3f}\")\n",
    "print(f\"Root Mean Squared Error: {np.sqrt(mean_squared_error(y_train, y_train_pred)):.3f}\")\n",
    "\n",
    "print(\"\\nTest set performance:\")\n",
    "print(f\"R-squared: {r2_score(y_test, y_test_pred):.3f}\")\n",
    "print(f\"Mean Squared Error: {mean_squared_error(y_test, y_test_pred):.3f}\")\n",
    "print(f\"Root Mean Squared Error: {np.sqrt(mean_squared_error(y_test, y_test_pred)):.3f}\")"
   ]
  },
  {
   "cell_type": "markdown",
   "id": "976b7e75-f395-436d-8f2b-1eb2238544ca",
   "metadata": {},
   "source": [
    "We now plot the regression."
   ]
  },
  {
   "cell_type": "code",
   "execution_count": null,
   "id": "48d9b607-eeda-4cd8-9955-9aeedb4836fe",
   "metadata": {},
   "outputs": [],
   "source": [
    "X_line = np.linspace(X_train.min(), X_train.max(), 100).reshape(-1, 1)\n",
    "X_line_log = np.log(np.array(X_line, dtype=float))\n",
    "y_line = model.predict(X_line_log)\n",
    "\n",
    "plt.figure(figsize=(12, 6))\n",
    "\n",
    "#Training data\n",
    "plt.subplot(1, 2, 1)\n",
    "plt.scatter(X_train, y_train, label='Training data')\n",
    "plt.plot(X_line, y_line, color='red', label='Polynomial Fit')\n",
    "plt.xlabel('Number of tourists by number of residents')\n",
    "plt.ylabel('Percentage of salary spent on rent (RAI)')\n",
    "plt.legend()\n",
    "\n",
    "\n",
    "#Testing data\n",
    "plt.subplot(1, 2, 2)\n",
    "plt.scatter(X_test, y_test, color='green', label='Test data')\n",
    "plt.plot(X_line, y_line, color='red', label='Polynomial Fit')\n",
    "plt.xlabel('Number of tourists by number of residents')\n",
    "plt.ylabel('Percentage of salary spent on rent (RAI)')\n",
    "plt.legend()\n",
    "\n",
    "plt"
   ]
  },
  {
   "cell_type": "markdown",
   "id": "5584c79d-992f-4bc2-9f0b-6b0368f47cb1",
   "metadata": {},
   "source": [
    "The model performs reasonably well, even with unseen data. "
   ]
  },
  {
   "cell_type": "markdown",
   "id": "758e5802-01b0-4f3d-af58-252be0074e14",
   "metadata": {},
   "source": [
    "### Tourism against HAI"
   ]
  },
  {
   "cell_type": "markdown",
   "id": "df5c9d25-a81c-407e-ad02-06ca17485a50",
   "metadata": {},
   "source": [
    "We split our data into training and testing."
   ]
  },
  {
   "cell_type": "code",
   "execution_count": null,
   "id": "ea92e5c2-77e6-40c7-9543-326550dc8432",
   "metadata": {},
   "outputs": [],
   "source": [
    "X = map_df[['Tourists ratio']].values  \n",
    "y = map_df[['HAI']].values   \n",
    "\n",
    "X_train, X_test, y_train, y_test = train_test_split(X, y, test_size=0.3, random_state=42)"
   ]
  },
  {
   "cell_type": "markdown",
   "id": "5fa277d4-1fe6-4df3-b227-5584dfb13954",
   "metadata": {},
   "source": [
    "We create a polynomial features object and we transform X_train and X_test to include their powers."
   ]
  },
  {
   "cell_type": "code",
   "execution_count": null,
   "id": "9f05d877-5e80-4482-b1f7-148989c6821a",
   "metadata": {},
   "outputs": [],
   "source": [
    "poly = PolynomialFeatures(degree=2)\n",
    "X_train_poly = poly.fit_transform(X_train)\n",
    "X_test_poly = poly.transform(X_test)"
   ]
  },
  {
   "cell_type": "markdown",
   "id": "fa5c4cfc-589e-4cf8-9870-ab716eef30c9",
   "metadata": {},
   "source": [
    "We now list some values of alpha and perform ridge regression with each alpha. We then compute R$^2$ and store the alpha with the highest score."
   ]
  },
  {
   "cell_type": "code",
   "execution_count": null,
   "id": "f6e9db9a-b473-4abe-b39c-6014b619f335",
   "metadata": {},
   "outputs": [],
   "source": [
    "from sklearn.linear_model import Ridge\n",
    "\n",
    "#we list some values of alpha for ridge regression\n",
    "alpha_values = [0.1, 1, 2,7,15, 20, 30, 100, 1000, 10000, 100000]\n",
    "\n",
    "#we initialise best_alpha and best_r2\n",
    "best_alpha = None\n",
    "best_r2 = -np.inf\n",
    "\n",
    "#we loop through the list of alpha values \n",
    "for alpha in alpha_values:\n",
    "\n",
    "    #we create a ridge regression model with each alpha\n",
    "    model = Ridge(alpha=alpha)\n",
    "\n",
    "    #we fit the model to the transformed training data\n",
    "    model.fit(X_train_poly, y_train)\n",
    "\n",
    "    #we predict the y values of both the training and the testing data\n",
    "    y_test_pred = model.predict(X_test_poly)\n",
    "    y_train_pred = model.predict(X_train_poly)\n",
    "\n",
    "    #we compute R^2 with both the training and the testing data.\n",
    "    test_r2 = r2_score(y_test, y_test_pred)\n",
    "    train_r2 = r2_score(y_train, y_train_pred)\n",
    "\n",
    "    #we compute the avarage of both scores\n",
    "    avg_r2=(test_r2+train_r2)/2\n",
    "\n",
    "    #we update the best_r2 and best_alpha\n",
    "    if avg_r2 > best_r2:\n",
    "        best_r2 = avg_r2\n",
    "        best_alpha = alpha\n",
    "       \n",
    "best_alpha"
   ]
  },
  {
   "cell_type": "code",
   "execution_count": null,
   "id": "d87847fc-d351-4bf9-90e8-2935f6da8c91",
   "metadata": {},
   "outputs": [],
   "source": [
    "poly = PolynomialFeatures(degree=2)\n",
    "X_train_poly = poly.fit_transform(X_train)\n",
    "\n",
    "# Fit the polynomial regression model\n",
    "model = Ridge(alpha=best_alpha)\n",
    "model.fit(X_train_poly, y_train)"
   ]
  },
  {
   "cell_type": "code",
   "execution_count": null,
   "id": "f9f5b88a-d831-4b61-8b25-14181ff26447",
   "metadata": {},
   "outputs": [],
   "source": [
    "X_test_poly = poly.transform(X_test)\n",
    "\n",
    "# Predict values\n",
    "y_train_pred = model.predict(X_train_poly)\n",
    "y_test_pred = model.predict(X_test_poly)\n",
    "\n",
    "# Evaluate the model\n",
    "print(\"Training set performance:\")\n",
    "print(f\"R-squared: {r2_score(y_train, y_train_pred):.3f}\")\n",
    "print(f\"Mean Squared Error: {mean_squared_error(y_train, y_train_pred):.3f}\")\n",
    "print(f\"Root Mean Squared Error: {np.sqrt(mean_squared_error(y_train, y_train_pred)):.3f}\")\n",
    "\n",
    "print(\"\\nTest set performance:\")\n",
    "print(f\"R-squared: {r2_score(y_test, y_test_pred):.3f}\")\n",
    "print(f\"Mean Squared Error: {mean_squared_error(y_test, y_test_pred):.3f}\")\n",
    "print(f\"Root Mean Squared Error: {np.sqrt(mean_squared_error(y_test, y_test_pred)):.3f}\")"
   ]
  },
  {
   "cell_type": "markdown",
   "id": "b6043c22-bd8c-463f-a701-11435c3a1ea0",
   "metadata": {},
   "source": [
    "The model is overfit to the training data, it performs very well on the training data but very poorly on the testing data."
   ]
  },
  {
   "cell_type": "code",
   "execution_count": null,
   "id": "2df2d5e4-62ce-4a77-97b2-4d8f79d1dfde",
   "metadata": {},
   "outputs": [],
   "source": [
    "X_line = np.linspace(X_train.min(), X_train.max(), 100).reshape(-1, 1)\n",
    "X_line_poly = poly.transform(X_line)\n",
    "y_line = model.predict(X_line_poly)\n",
    "\n",
    "#Training data\n",
    "plt.figure(figsize=(12, 6))\n",
    "\n",
    "plt.subplot(1, 2, 1)\n",
    "plt.scatter(X_train, y_train, label='Training data')\n",
    "plt.plot(X_line, y_line, color='red', label='Polynomial Fit')\n",
    "plt.xlabel('Number of tourists by number of residents')\n",
    "plt.ylabel('Number of years needed to buy a house (HAI)')\n",
    "plt.legend()\n",
    "\n",
    "#Testing data\n",
    "plt.subplot(1, 2, 2)\n",
    "plt.scatter(X_test, y_test, color='green', label='Test data')\n",
    "plt.plot(X_line, y_line, color='red', label='Polynomial Fit')\n",
    "plt.xlabel('Number of tourists by number of residents')\n",
    "plt.ylabel('Number of years needed to buy a house (HAI)')\n",
    "plt.legend()\n",
    "\n",
    "plt\n",
    "\n"
   ]
  },
  {
   "cell_type": "markdown",
   "id": "49193add-a130-49e9-be10-e40c051d1603",
   "metadata": {},
   "source": [
    "# 4. Conclusions and further work"
   ]
  },
  {
   "cell_type": "markdown",
   "id": "cbc691c5-b457-4b0e-85f2-a1aa17e0416a",
   "metadata": {},
   "source": [
    "Initially, the polynomial model of the relation between HAI and tourism performed better than that of the relation between RAI and tourism, the first scoring 0.8529 and the second 0.6983 on the R^2 score. However, after performing a train test split and using a ridge regression model with a well-chosen alpha, the polynomial model performed better on the testing set corresponding to RAI than to HAI. This means our model for HAI was more overfit to the training data. \n",
    "\n",
    "Back to the original questions, this data gives some evidence that there is a logarithmic relation between RAI and tourism. It also suggests a non-decreasing relation between HAI and tourism, but a weaker one. However, we can't conclude anything with much confidence due to the reduced data size. "
   ]
  },
  {
   "cell_type": "markdown",
   "id": "dc208cd1-d3ed-4d5d-afc2-d6f98ed3f89a",
   "metadata": {},
   "source": [
    "I'm currently working on exploring the same questions but using municipalities and provinces instead of 'autonomous communities'. This would solve the problem of having few data points. However, the relevant data, such as the average salary per municipality, is not easily available."
   ]
  }
 ],
 "metadata": {
  "kernelspec": {
   "display_name": "Python 3 (ipykernel)",
   "language": "python",
   "name": "python3"
  },
  "language_info": {
   "codemirror_mode": {
    "name": "ipython",
    "version": 3
   },
   "file_extension": ".py",
   "mimetype": "text/x-python",
   "name": "python",
   "nbconvert_exporter": "python",
   "pygments_lexer": "ipython3",
   "version": "3.10.12"
  }
 },
 "nbformat": 4,
 "nbformat_minor": 5
}
